{
 "cells": [
  {
   "cell_type": "markdown",
   "metadata": {},
   "source": [
    "## Load and Process Prediction data"
   ]
  },
  {
   "cell_type": "code",
   "execution_count": 1,
   "metadata": {},
   "outputs": [],
   "source": [
    "import pandas as pd"
   ]
  },
  {
   "cell_type": "code",
   "execution_count": 3,
   "metadata": {},
   "outputs": [],
   "source": [
    "def simple_response_parser(response):\n",
    "    \"\"\"\n",
    "    Split the response into Steps, extract the symptoms, category and score.\n",
    "    Works for simple PHQ9 prompt template\n",
    "    \"\"\"\n",
    "    step_start_idxs = []\n",
    "    for i in range(1, 4):\n",
    "        step_start_idxs.append(response.find(f\"STEP {i}:\"))\n",
    "    \n",
    "    step_texts = {}\n",
    "    step_texts[1] = response[step_start_idxs[0]:step_start_idxs[1]].strip()\n",
    "    step_texts[2] = response[step_start_idxs[1]:step_start_idxs[2]].strip()\n",
    "    step_texts[3] = response[step_start_idxs[2]:].strip()\n",
    "    \n",
    "    symptoms = step_texts[1]\n",
    "    symptoms = symptoms.replace(\"STEP 1:\", \"\").strip()\n",
    "    \n",
    "    category_text = step_texts[2]\n",
    "    category_text = category_text.replace(\"STEP 2:\", \"\").strip()\n",
    "    try:\n",
    "        category = category_text.split(\"Category: \")[1].split('\\n')[0].strip()\n",
    "    except:\n",
    "        category = ''\n",
    "    category_text = category_text.split(\"Category: \")[0].strip()\n",
    "    \n",
    "    score_text = step_texts[3]\n",
    "    score_text = score_text.replace(\"STEP 3:\", \"\").strip()\n",
    "    try:\n",
    "        score = score_text.split(\"Score: \")[1].split('\\n')[0].strip()\n",
    "    except:\n",
    "        score = None\n",
    "    score_text = score_text.split(\"Score: \")[0].strip()\n",
    "    \n",
    "    return {'symptoms': symptoms, \n",
    "            'category_text': category_text, 'category': category, \n",
    "            'score_text': score_text, 'score': score}"
   ]
  },
  {
   "cell_type": "code",
   "execution_count": 4,
   "metadata": {},
   "outputs": [],
   "source": [
    "RESPONSE_FILE_PATH = \"/chronos_data/avirinchipur/reasoning_for_psych/expts/responses/expt_gpt-4.dep_list_evidence_classify_estimate.csv\""
   ]
  },
  {
   "cell_type": "code",
   "execution_count": 5,
   "metadata": {},
   "outputs": [
    {
     "data": {
      "text/html": [
       "<div>\n",
       "<style scoped>\n",
       "    .dataframe tbody tr th:only-of-type {\n",
       "        vertical-align: middle;\n",
       "    }\n",
       "\n",
       "    .dataframe tbody tr th {\n",
       "        vertical-align: top;\n",
       "    }\n",
       "\n",
       "    .dataframe thead th {\n",
       "        text-align: right;\n",
       "    }\n",
       "</style>\n",
       "<table border=\"1\" class=\"dataframe\">\n",
       "  <thead>\n",
       "    <tr style=\"text-align: right;\">\n",
       "      <th></th>\n",
       "      <th>user_id</th>\n",
       "      <th>input_text</th>\n",
       "      <th>target_value</th>\n",
       "      <th>response_text</th>\n",
       "      <th>user_text</th>\n",
       "    </tr>\n",
       "  </thead>\n",
       "  <tbody>\n",
       "    <tr>\n",
       "      <th>0</th>\n",
       "      <td>1</td>\n",
       "      <td>[{'role': 'system', 'content': 'You are a help...</td>\n",
       "      <td>0.0</td>\n",
       "      <td>STEP 1: The text provided does not show any in...</td>\n",
       "      <td>Over the past two weeks, I have not been depre...</td>\n",
       "    </tr>\n",
       "    <tr>\n",
       "      <th>1</th>\n",
       "      <td>2</td>\n",
       "      <td>[{'role': 'system', 'content': 'You are a help...</td>\n",
       "      <td>17.0</td>\n",
       "      <td>STEP 1: The indications or symptoms of depress...</td>\n",
       "      <td>I don't think I have felt depressed. I'm not f...</td>\n",
       "    </tr>\n",
       "    <tr>\n",
       "      <th>2</th>\n",
       "      <td>3</td>\n",
       "      <td>[{'role': 'system', 'content': 'You are a help...</td>\n",
       "      <td>21.0</td>\n",
       "      <td>STEP 1: The indications or symptoms of depress...</td>\n",
       "      <td>I have been depressed because I am worried abo...</td>\n",
       "    </tr>\n",
       "    <tr>\n",
       "      <th>3</th>\n",
       "      <td>4</td>\n",
       "      <td>[{'role': 'system', 'content': 'You are a help...</td>\n",
       "      <td>13.0</td>\n",
       "      <td>STEP 1: The indications or symptoms of depress...</td>\n",
       "      <td>Over the past 2 weeks i have been feeling depr...</td>\n",
       "    </tr>\n",
       "    <tr>\n",
       "      <th>4</th>\n",
       "      <td>5</td>\n",
       "      <td>[{'role': 'system', 'content': 'You are a help...</td>\n",
       "      <td>9.0</td>\n",
       "      <td>STEP 1: The indications or symptoms of depress...</td>\n",
       "      <td>yes very much just seem everything is getting ...</td>\n",
       "    </tr>\n",
       "  </tbody>\n",
       "</table>\n",
       "</div>"
      ],
      "text/plain": [
       "   user_id                                         input_text  target_value  \\\n",
       "0        1  [{'role': 'system', 'content': 'You are a help...           0.0   \n",
       "1        2  [{'role': 'system', 'content': 'You are a help...          17.0   \n",
       "2        3  [{'role': 'system', 'content': 'You are a help...          21.0   \n",
       "3        4  [{'role': 'system', 'content': 'You are a help...          13.0   \n",
       "4        5  [{'role': 'system', 'content': 'You are a help...           9.0   \n",
       "\n",
       "                                       response_text  \\\n",
       "0  STEP 1: The text provided does not show any in...   \n",
       "1  STEP 1: The indications or symptoms of depress...   \n",
       "2  STEP 1: The indications or symptoms of depress...   \n",
       "3  STEP 1: The indications or symptoms of depress...   \n",
       "4  STEP 1: The indications or symptoms of depress...   \n",
       "\n",
       "                                           user_text  \n",
       "0  Over the past two weeks, I have not been depre...  \n",
       "1  I don't think I have felt depressed. I'm not f...  \n",
       "2  I have been depressed because I am worried abo...  \n",
       "3  Over the past 2 weeks i have been feeling depr...  \n",
       "4  yes very much just seem everything is getting ...  "
      ]
     },
     "execution_count": 5,
     "metadata": {},
     "output_type": "execute_result"
    }
   ],
   "source": [
    "response_df = pd.read_csv(RESPONSE_FILE_PATH)\n",
    "response_df.head()"
   ]
  },
  {
   "cell_type": "code",
   "execution_count": 6,
   "metadata": {},
   "outputs": [
    {
     "name": "stdout",
     "output_type": "stream",
     "text": [
      "STEP 1: The indications or symptoms of depression evident in the text include:\n",
      "\n",
      "1. The individual is under medication for depression.\n",
      "2. The individual has noticed a difference in their mental state due to lack of exercise, which could be a sign of mood changes or increased sensitivity to stress, both of which are symptoms of depression.\n",
      "\n",
      "STEP 2: Based on these identified symptoms, the individual's potential level of depression can be categorized as Mild. This is because the individual is under medication and has been able to manage their symptoms effectively with exercise and medication. However, the recent lack of exercise has caused some noticeable changes, indicating that the individual may still be experiencing some mild symptoms of depression.\n",
      "\n",
      "Category: Mild\n",
      "\n",
      "STEP 3: Considering the individual's ability to manage their symptoms and the fact that they are under medication, but also taking into account the recent changes due to lack of exercise, a depression severity score of 6 would be appropriate. This score suggests that the individual is experiencing some symptoms of depression but is generally able to manage them effectively.\n",
      "\n",
      "Score: 6\n"
     ]
    }
   ],
   "source": [
    "example_response_text = response_df.sample()['response_text'].values[0]\n",
    "print (example_response_text)"
   ]
  },
  {
   "cell_type": "code",
   "execution_count": 7,
   "metadata": {},
   "outputs": [
    {
     "data": {
      "text/plain": [
       "{'symptoms': 'The indications or symptoms of depression evident in the text include:\\n\\n1. The individual is under medication for depression.\\n2. The individual has noticed a difference in their mental state due to lack of exercise, which could be a sign of mood changes or increased sensitivity to stress, both of which are symptoms of depression.',\n",
       " 'category_text': \"Based on these identified symptoms, the individual's potential level of depression can be categorized as Mild. This is because the individual is under medication and has been able to manage their symptoms effectively with exercise and medication. However, the recent lack of exercise has caused some noticeable changes, indicating that the individual may still be experiencing some mild symptoms of depression.\",\n",
       " 'category': 'Mild',\n",
       " 'score_text': \"Considering the individual's ability to manage their symptoms and the fact that they are under medication, but also taking into account the recent changes due to lack of exercise, a depression severity score of 6 would be appropriate. This score suggests that the individual is experiencing some symptoms of depression but is generally able to manage them effectively.\",\n",
       " 'score': '6'}"
      ]
     },
     "execution_count": 7,
     "metadata": {},
     "output_type": "execute_result"
    }
   ],
   "source": [
    "simple_response_parser(example_response_text)"
   ]
  },
  {
   "cell_type": "code",
   "execution_count": 8,
   "metadata": {},
   "outputs": [],
   "source": [
    "response_df['parsed_response'] = response_df['response_text'].apply(simple_response_parser)"
   ]
  },
  {
   "cell_type": "code",
   "execution_count": 9,
   "metadata": {},
   "outputs": [
    {
     "data": {
      "text/html": [
       "<div>\n",
       "<style scoped>\n",
       "    .dataframe tbody tr th:only-of-type {\n",
       "        vertical-align: middle;\n",
       "    }\n",
       "\n",
       "    .dataframe tbody tr th {\n",
       "        vertical-align: top;\n",
       "    }\n",
       "\n",
       "    .dataframe thead th {\n",
       "        text-align: right;\n",
       "    }\n",
       "</style>\n",
       "<table border=\"1\" class=\"dataframe\">\n",
       "  <thead>\n",
       "    <tr style=\"text-align: right;\">\n",
       "      <th></th>\n",
       "      <th>user_id</th>\n",
       "      <th>input_text</th>\n",
       "      <th>target_value</th>\n",
       "      <th>response_text</th>\n",
       "      <th>user_text</th>\n",
       "      <th>parsed_response</th>\n",
       "    </tr>\n",
       "  </thead>\n",
       "  <tbody>\n",
       "    <tr>\n",
       "      <th>0</th>\n",
       "      <td>1</td>\n",
       "      <td>[{'role': 'system', 'content': 'You are a help...</td>\n",
       "      <td>0.0</td>\n",
       "      <td>STEP 1: The text provided does not show any in...</td>\n",
       "      <td>Over the past two weeks, I have not been depre...</td>\n",
       "      <td>{'symptoms': 'The text provided does not show ...</td>\n",
       "    </tr>\n",
       "    <tr>\n",
       "      <th>1</th>\n",
       "      <td>2</td>\n",
       "      <td>[{'role': 'system', 'content': 'You are a help...</td>\n",
       "      <td>17.0</td>\n",
       "      <td>STEP 1: The indications or symptoms of depress...</td>\n",
       "      <td>I don't think I have felt depressed. I'm not f...</td>\n",
       "      <td>{'symptoms': 'The indications or symptoms of d...</td>\n",
       "    </tr>\n",
       "    <tr>\n",
       "      <th>2</th>\n",
       "      <td>3</td>\n",
       "      <td>[{'role': 'system', 'content': 'You are a help...</td>\n",
       "      <td>21.0</td>\n",
       "      <td>STEP 1: The indications or symptoms of depress...</td>\n",
       "      <td>I have been depressed because I am worried abo...</td>\n",
       "      <td>{'symptoms': 'The indications or symptoms of d...</td>\n",
       "    </tr>\n",
       "    <tr>\n",
       "      <th>3</th>\n",
       "      <td>4</td>\n",
       "      <td>[{'role': 'system', 'content': 'You are a help...</td>\n",
       "      <td>13.0</td>\n",
       "      <td>STEP 1: The indications or symptoms of depress...</td>\n",
       "      <td>Over the past 2 weeks i have been feeling depr...</td>\n",
       "      <td>{'symptoms': 'The indications or symptoms of d...</td>\n",
       "    </tr>\n",
       "    <tr>\n",
       "      <th>4</th>\n",
       "      <td>5</td>\n",
       "      <td>[{'role': 'system', 'content': 'You are a help...</td>\n",
       "      <td>9.0</td>\n",
       "      <td>STEP 1: The indications or symptoms of depress...</td>\n",
       "      <td>yes very much just seem everything is getting ...</td>\n",
       "      <td>{'symptoms': 'The indications or symptoms of d...</td>\n",
       "    </tr>\n",
       "  </tbody>\n",
       "</table>\n",
       "</div>"
      ],
      "text/plain": [
       "   user_id                                         input_text  target_value  \\\n",
       "0        1  [{'role': 'system', 'content': 'You are a help...           0.0   \n",
       "1        2  [{'role': 'system', 'content': 'You are a help...          17.0   \n",
       "2        3  [{'role': 'system', 'content': 'You are a help...          21.0   \n",
       "3        4  [{'role': 'system', 'content': 'You are a help...          13.0   \n",
       "4        5  [{'role': 'system', 'content': 'You are a help...           9.0   \n",
       "\n",
       "                                       response_text  \\\n",
       "0  STEP 1: The text provided does not show any in...   \n",
       "1  STEP 1: The indications or symptoms of depress...   \n",
       "2  STEP 1: The indications or symptoms of depress...   \n",
       "3  STEP 1: The indications or symptoms of depress...   \n",
       "4  STEP 1: The indications or symptoms of depress...   \n",
       "\n",
       "                                           user_text  \\\n",
       "0  Over the past two weeks, I have not been depre...   \n",
       "1  I don't think I have felt depressed. I'm not f...   \n",
       "2  I have been depressed because I am worried abo...   \n",
       "3  Over the past 2 weeks i have been feeling depr...   \n",
       "4  yes very much just seem everything is getting ...   \n",
       "\n",
       "                                     parsed_response  \n",
       "0  {'symptoms': 'The text provided does not show ...  \n",
       "1  {'symptoms': 'The indications or symptoms of d...  \n",
       "2  {'symptoms': 'The indications or symptoms of d...  \n",
       "3  {'symptoms': 'The indications or symptoms of d...  \n",
       "4  {'symptoms': 'The indications or symptoms of d...  "
      ]
     },
     "execution_count": 9,
     "metadata": {},
     "output_type": "execute_result"
    }
   ],
   "source": [
    "response_df.head()"
   ]
  },
  {
   "cell_type": "code",
   "execution_count": 10,
   "metadata": {},
   "outputs": [],
   "source": [
    "parsed_response_df = pd.DataFrame(response_df['parsed_response'].tolist(), index=response_df.index)"
   ]
  },
  {
   "cell_type": "code",
   "execution_count": 11,
   "metadata": {},
   "outputs": [
    {
     "data": {
      "text/html": [
       "<div>\n",
       "<style scoped>\n",
       "    .dataframe tbody tr th:only-of-type {\n",
       "        vertical-align: middle;\n",
       "    }\n",
       "\n",
       "    .dataframe tbody tr th {\n",
       "        vertical-align: top;\n",
       "    }\n",
       "\n",
       "    .dataframe thead th {\n",
       "        text-align: right;\n",
       "    }\n",
       "</style>\n",
       "<table border=\"1\" class=\"dataframe\">\n",
       "  <thead>\n",
       "    <tr style=\"text-align: right;\">\n",
       "      <th></th>\n",
       "      <th>symptoms</th>\n",
       "      <th>category_text</th>\n",
       "      <th>category</th>\n",
       "      <th>score_text</th>\n",
       "      <th>score</th>\n",
       "    </tr>\n",
       "  </thead>\n",
       "  <tbody>\n",
       "    <tr>\n",
       "      <th>0</th>\n",
       "      <td>The text provided does not show any indication...</td>\n",
       "      <td>Based on the absence of any depressive symptom...</td>\n",
       "      <td>None</td>\n",
       "      <td>Given the lack of depressive symptoms, the dep...</td>\n",
       "      <td>0</td>\n",
       "    </tr>\n",
       "    <tr>\n",
       "      <th>1</th>\n",
       "      <td>The indications or symptoms of depression evid...</td>\n",
       "      <td>Based on these identified symptoms, the indivi...</td>\n",
       "      <td>Mild</td>\n",
       "      <td>To quantify their depression severity, conside...</td>\n",
       "      <td>5</td>\n",
       "    </tr>\n",
       "    <tr>\n",
       "      <th>2</th>\n",
       "      <td>The indications or symptoms of depression evid...</td>\n",
       "      <td>Based on these identified symptoms, the indivi...</td>\n",
       "      <td>Moderate</td>\n",
       "      <td>To quantify their depression severity, conside...</td>\n",
       "      <td>14</td>\n",
       "    </tr>\n",
       "    <tr>\n",
       "      <th>3</th>\n",
       "      <td>The indications or symptoms of depression evid...</td>\n",
       "      <td>Based on these identified symptoms, the indivi...</td>\n",
       "      <td>Moderate</td>\n",
       "      <td>To quantify their depression severity, conside...</td>\n",
       "      <td>10</td>\n",
       "    </tr>\n",
       "    <tr>\n",
       "      <th>4</th>\n",
       "      <td>The indications or symptoms of depression evid...</td>\n",
       "      <td>Based on these identified symptoms, the indivi...</td>\n",
       "      <td>Moderately Severe</td>\n",
       "      <td>To quantify their depression severity, conside...</td>\n",
       "      <td>20</td>\n",
       "    </tr>\n",
       "    <tr>\n",
       "      <th>...</th>\n",
       "      <td>...</td>\n",
       "      <td>...</td>\n",
       "      <td>...</td>\n",
       "      <td>...</td>\n",
       "      <td>...</td>\n",
       "    </tr>\n",
       "    <tr>\n",
       "      <th>951</th>\n",
       "      <td>The indications or symptoms of depression evid...</td>\n",
       "      <td>Based on these identified symptoms, the indivi...</td>\n",
       "      <td>Moderate</td>\n",
       "      <td>To quantify their depression severity, conside...</td>\n",
       "      <td>14</td>\n",
       "    </tr>\n",
       "    <tr>\n",
       "      <th>952</th>\n",
       "      <td>The indications or symptoms of depression evid...</td>\n",
       "      <td>Based on these identified symptoms, the indivi...</td>\n",
       "      <td>Moderate</td>\n",
       "      <td>To quantify their depression severity, conside...</td>\n",
       "      <td>14</td>\n",
       "    </tr>\n",
       "    <tr>\n",
       "      <th>953</th>\n",
       "      <td>The indications or symptoms of depression evid...</td>\n",
       "      <td>Based on the identified symptom, the individua...</td>\n",
       "      <td>Mild</td>\n",
       "      <td>Given the presence of mood swings but absence ...</td>\n",
       "      <td>5</td>\n",
       "    </tr>\n",
       "    <tr>\n",
       "      <th>954</th>\n",
       "      <td>The indications or symptoms of depression evid...</td>\n",
       "      <td>Based on these identified symptoms, the indivi...</td>\n",
       "      <td>Severe</td>\n",
       "      <td>Considering the severity and number of symptom...</td>\n",
       "      <td>23</td>\n",
       "    </tr>\n",
       "    <tr>\n",
       "      <th>955</th>\n",
       "      <td>The indications or symptoms of depression evid...</td>\n",
       "      <td>Based on these identified symptoms, the indivi...</td>\n",
       "      <td>Mild</td>\n",
       "      <td>Considering the symptoms mentioned and their f...</td>\n",
       "      <td>5</td>\n",
       "    </tr>\n",
       "  </tbody>\n",
       "</table>\n",
       "<p>956 rows × 5 columns</p>\n",
       "</div>"
      ],
      "text/plain": [
       "                                              symptoms  \\\n",
       "0    The text provided does not show any indication...   \n",
       "1    The indications or symptoms of depression evid...   \n",
       "2    The indications or symptoms of depression evid...   \n",
       "3    The indications or symptoms of depression evid...   \n",
       "4    The indications or symptoms of depression evid...   \n",
       "..                                                 ...   \n",
       "951  The indications or symptoms of depression evid...   \n",
       "952  The indications or symptoms of depression evid...   \n",
       "953  The indications or symptoms of depression evid...   \n",
       "954  The indications or symptoms of depression evid...   \n",
       "955  The indications or symptoms of depression evid...   \n",
       "\n",
       "                                         category_text           category  \\\n",
       "0    Based on the absence of any depressive symptom...               None   \n",
       "1    Based on these identified symptoms, the indivi...               Mild   \n",
       "2    Based on these identified symptoms, the indivi...           Moderate   \n",
       "3    Based on these identified symptoms, the indivi...           Moderate   \n",
       "4    Based on these identified symptoms, the indivi...  Moderately Severe   \n",
       "..                                                 ...                ...   \n",
       "951  Based on these identified symptoms, the indivi...           Moderate   \n",
       "952  Based on these identified symptoms, the indivi...           Moderate   \n",
       "953  Based on the identified symptom, the individua...               Mild   \n",
       "954  Based on these identified symptoms, the indivi...             Severe   \n",
       "955  Based on these identified symptoms, the indivi...               Mild   \n",
       "\n",
       "                                            score_text score  \n",
       "0    Given the lack of depressive symptoms, the dep...     0  \n",
       "1    To quantify their depression severity, conside...     5  \n",
       "2    To quantify their depression severity, conside...    14  \n",
       "3    To quantify their depression severity, conside...    10  \n",
       "4    To quantify their depression severity, conside...    20  \n",
       "..                                                 ...   ...  \n",
       "951  To quantify their depression severity, conside...    14  \n",
       "952  To quantify their depression severity, conside...    14  \n",
       "953  Given the presence of mood swings but absence ...     5  \n",
       "954  Considering the severity and number of symptom...    23  \n",
       "955  Considering the symptoms mentioned and their f...     5  \n",
       "\n",
       "[956 rows x 5 columns]"
      ]
     },
     "execution_count": 11,
     "metadata": {},
     "output_type": "execute_result"
    }
   ],
   "source": [
    "parsed_response_df"
   ]
  },
  {
   "cell_type": "code",
   "execution_count": 12,
   "metadata": {},
   "outputs": [
    {
     "data": {
      "text/html": [
       "<div>\n",
       "<style scoped>\n",
       "    .dataframe tbody tr th:only-of-type {\n",
       "        vertical-align: middle;\n",
       "    }\n",
       "\n",
       "    .dataframe tbody tr th {\n",
       "        vertical-align: top;\n",
       "    }\n",
       "\n",
       "    .dataframe thead th {\n",
       "        text-align: right;\n",
       "    }\n",
       "</style>\n",
       "<table border=\"1\" class=\"dataframe\">\n",
       "  <thead>\n",
       "    <tr style=\"text-align: right;\">\n",
       "      <th></th>\n",
       "      <th>user_id</th>\n",
       "      <th>user_text</th>\n",
       "      <th>target_value</th>\n",
       "      <th>symptoms</th>\n",
       "      <th>category_text</th>\n",
       "      <th>category</th>\n",
       "      <th>score_text</th>\n",
       "      <th>score</th>\n",
       "    </tr>\n",
       "  </thead>\n",
       "  <tbody>\n",
       "    <tr>\n",
       "      <th>0</th>\n",
       "      <td>1</td>\n",
       "      <td>Over the past two weeks, I have not been depre...</td>\n",
       "      <td>0.0</td>\n",
       "      <td>The text provided does not show any indication...</td>\n",
       "      <td>Based on the absence of any depressive symptom...</td>\n",
       "      <td>None</td>\n",
       "      <td>Given the lack of depressive symptoms, the dep...</td>\n",
       "      <td>0</td>\n",
       "    </tr>\n",
       "    <tr>\n",
       "      <th>1</th>\n",
       "      <td>2</td>\n",
       "      <td>I don't think I have felt depressed. I'm not f...</td>\n",
       "      <td>17.0</td>\n",
       "      <td>The indications or symptoms of depression evid...</td>\n",
       "      <td>Based on these identified symptoms, the indivi...</td>\n",
       "      <td>Mild</td>\n",
       "      <td>To quantify their depression severity, conside...</td>\n",
       "      <td>5</td>\n",
       "    </tr>\n",
       "    <tr>\n",
       "      <th>2</th>\n",
       "      <td>3</td>\n",
       "      <td>I have been depressed because I am worried abo...</td>\n",
       "      <td>21.0</td>\n",
       "      <td>The indications or symptoms of depression evid...</td>\n",
       "      <td>Based on these identified symptoms, the indivi...</td>\n",
       "      <td>Moderate</td>\n",
       "      <td>To quantify their depression severity, conside...</td>\n",
       "      <td>14</td>\n",
       "    </tr>\n",
       "    <tr>\n",
       "      <th>3</th>\n",
       "      <td>4</td>\n",
       "      <td>Over the past 2 weeks i have been feeling depr...</td>\n",
       "      <td>13.0</td>\n",
       "      <td>The indications or symptoms of depression evid...</td>\n",
       "      <td>Based on these identified symptoms, the indivi...</td>\n",
       "      <td>Moderate</td>\n",
       "      <td>To quantify their depression severity, conside...</td>\n",
       "      <td>10</td>\n",
       "    </tr>\n",
       "    <tr>\n",
       "      <th>4</th>\n",
       "      <td>5</td>\n",
       "      <td>yes very much just seem everything is getting ...</td>\n",
       "      <td>9.0</td>\n",
       "      <td>The indications or symptoms of depression evid...</td>\n",
       "      <td>Based on these identified symptoms, the indivi...</td>\n",
       "      <td>Moderately Severe</td>\n",
       "      <td>To quantify their depression severity, conside...</td>\n",
       "      <td>20</td>\n",
       "    </tr>\n",
       "  </tbody>\n",
       "</table>\n",
       "</div>"
      ],
      "text/plain": [
       "   user_id                                          user_text  target_value  \\\n",
       "0        1  Over the past two weeks, I have not been depre...           0.0   \n",
       "1        2  I don't think I have felt depressed. I'm not f...          17.0   \n",
       "2        3  I have been depressed because I am worried abo...          21.0   \n",
       "3        4  Over the past 2 weeks i have been feeling depr...          13.0   \n",
       "4        5  yes very much just seem everything is getting ...           9.0   \n",
       "\n",
       "                                            symptoms  \\\n",
       "0  The text provided does not show any indication...   \n",
       "1  The indications or symptoms of depression evid...   \n",
       "2  The indications or symptoms of depression evid...   \n",
       "3  The indications or symptoms of depression evid...   \n",
       "4  The indications or symptoms of depression evid...   \n",
       "\n",
       "                                       category_text           category  \\\n",
       "0  Based on the absence of any depressive symptom...               None   \n",
       "1  Based on these identified symptoms, the indivi...               Mild   \n",
       "2  Based on these identified symptoms, the indivi...           Moderate   \n",
       "3  Based on these identified symptoms, the indivi...           Moderate   \n",
       "4  Based on these identified symptoms, the indivi...  Moderately Severe   \n",
       "\n",
       "                                          score_text score  \n",
       "0  Given the lack of depressive symptoms, the dep...     0  \n",
       "1  To quantify their depression severity, conside...     5  \n",
       "2  To quantify their depression severity, conside...    14  \n",
       "3  To quantify their depression severity, conside...    10  \n",
       "4  To quantify their depression severity, conside...    20  "
      ]
     },
     "execution_count": 12,
     "metadata": {},
     "output_type": "execute_result"
    }
   ],
   "source": [
    "df = pd.concat([response_df[['user_id', 'user_text', 'target_value']].reset_index(drop=True), parsed_response_df], axis=1)\n",
    "df.head()"
   ]
  },
  {
   "cell_type": "code",
   "execution_count": 13,
   "metadata": {},
   "outputs": [
    {
     "data": {
      "text/html": [
       "<div>\n",
       "<style scoped>\n",
       "    .dataframe tbody tr th:only-of-type {\n",
       "        vertical-align: middle;\n",
       "    }\n",
       "\n",
       "    .dataframe tbody tr th {\n",
       "        vertical-align: top;\n",
       "    }\n",
       "\n",
       "    .dataframe thead th {\n",
       "        text-align: right;\n",
       "    }\n",
       "</style>\n",
       "<table border=\"1\" class=\"dataframe\">\n",
       "  <thead>\n",
       "    <tr style=\"text-align: right;\">\n",
       "      <th></th>\n",
       "      <th>user_id</th>\n",
       "      <th>user_text</th>\n",
       "      <th>target_value</th>\n",
       "      <th>symptoms</th>\n",
       "      <th>category_text</th>\n",
       "      <th>category</th>\n",
       "      <th>score_text</th>\n",
       "      <th>gpt4_predicted_value</th>\n",
       "    </tr>\n",
       "  </thead>\n",
       "  <tbody>\n",
       "    <tr>\n",
       "      <th>0</th>\n",
       "      <td>1</td>\n",
       "      <td>Over the past two weeks, I have not been depre...</td>\n",
       "      <td>0.0</td>\n",
       "      <td>The text provided does not show any indication...</td>\n",
       "      <td>Based on the absence of any depressive symptom...</td>\n",
       "      <td>None</td>\n",
       "      <td>Given the lack of depressive symptoms, the dep...</td>\n",
       "      <td>0.0</td>\n",
       "    </tr>\n",
       "    <tr>\n",
       "      <th>1</th>\n",
       "      <td>2</td>\n",
       "      <td>I don't think I have felt depressed. I'm not f...</td>\n",
       "      <td>17.0</td>\n",
       "      <td>The indications or symptoms of depression evid...</td>\n",
       "      <td>Based on these identified symptoms, the indivi...</td>\n",
       "      <td>Mild</td>\n",
       "      <td>To quantify their depression severity, conside...</td>\n",
       "      <td>5.0</td>\n",
       "    </tr>\n",
       "    <tr>\n",
       "      <th>2</th>\n",
       "      <td>3</td>\n",
       "      <td>I have been depressed because I am worried abo...</td>\n",
       "      <td>21.0</td>\n",
       "      <td>The indications or symptoms of depression evid...</td>\n",
       "      <td>Based on these identified symptoms, the indivi...</td>\n",
       "      <td>Moderate</td>\n",
       "      <td>To quantify their depression severity, conside...</td>\n",
       "      <td>14.0</td>\n",
       "    </tr>\n",
       "    <tr>\n",
       "      <th>3</th>\n",
       "      <td>4</td>\n",
       "      <td>Over the past 2 weeks i have been feeling depr...</td>\n",
       "      <td>13.0</td>\n",
       "      <td>The indications or symptoms of depression evid...</td>\n",
       "      <td>Based on these identified symptoms, the indivi...</td>\n",
       "      <td>Moderate</td>\n",
       "      <td>To quantify their depression severity, conside...</td>\n",
       "      <td>10.0</td>\n",
       "    </tr>\n",
       "    <tr>\n",
       "      <th>4</th>\n",
       "      <td>5</td>\n",
       "      <td>yes very much just seem everything is getting ...</td>\n",
       "      <td>9.0</td>\n",
       "      <td>The indications or symptoms of depression evid...</td>\n",
       "      <td>Based on these identified symptoms, the indivi...</td>\n",
       "      <td>Moderately Severe</td>\n",
       "      <td>To quantify their depression severity, conside...</td>\n",
       "      <td>20.0</td>\n",
       "    </tr>\n",
       "  </tbody>\n",
       "</table>\n",
       "</div>"
      ],
      "text/plain": [
       "   user_id                                          user_text  target_value  \\\n",
       "0        1  Over the past two weeks, I have not been depre...           0.0   \n",
       "1        2  I don't think I have felt depressed. I'm not f...          17.0   \n",
       "2        3  I have been depressed because I am worried abo...          21.0   \n",
       "3        4  Over the past 2 weeks i have been feeling depr...          13.0   \n",
       "4        5  yes very much just seem everything is getting ...           9.0   \n",
       "\n",
       "                                            symptoms  \\\n",
       "0  The text provided does not show any indication...   \n",
       "1  The indications or symptoms of depression evid...   \n",
       "2  The indications or symptoms of depression evid...   \n",
       "3  The indications or symptoms of depression evid...   \n",
       "4  The indications or symptoms of depression evid...   \n",
       "\n",
       "                                       category_text           category  \\\n",
       "0  Based on the absence of any depressive symptom...               None   \n",
       "1  Based on these identified symptoms, the indivi...               Mild   \n",
       "2  Based on these identified symptoms, the indivi...           Moderate   \n",
       "3  Based on these identified symptoms, the indivi...           Moderate   \n",
       "4  Based on these identified symptoms, the indivi...  Moderately Severe   \n",
       "\n",
       "                                          score_text  gpt4_predicted_value  \n",
       "0  Given the lack of depressive symptoms, the dep...                   0.0  \n",
       "1  To quantify their depression severity, conside...                   5.0  \n",
       "2  To quantify their depression severity, conside...                  14.0  \n",
       "3  To quantify their depression severity, conside...                  10.0  \n",
       "4  To quantify their depression severity, conside...                  20.0  "
      ]
     },
     "execution_count": 13,
     "metadata": {},
     "output_type": "execute_result"
    }
   ],
   "source": [
    "df.score = df.score.astype(float)\n",
    "df = df.rename(columns={'score': 'gpt4_predicted_value'})\n",
    "df.head()"
   ]
  },
  {
   "cell_type": "code",
   "execution_count": 14,
   "metadata": {},
   "outputs": [
    {
     "data": {
      "text/plain": [
       "(0.7326694130057546, 1.9217550417549997e-161)"
      ]
     },
     "execution_count": 14,
     "metadata": {},
     "output_type": "execute_result"
    }
   ],
   "source": [
    "from scipy.stats import pearsonr\n",
    "pred, target = df[~pd.isna(df.gpt4_predicted_value)].gpt4_predicted_value, df[~pd.isna(df.gpt4_predicted_value)].target_value\n",
    "pearsonr(pred, target)"
   ]
  },
  {
   "cell_type": "code",
   "execution_count": 15,
   "metadata": {},
   "outputs": [
    {
     "data": {
      "text/html": [
       "<div>\n",
       "<style scoped>\n",
       "    .dataframe tbody tr th:only-of-type {\n",
       "        vertical-align: middle;\n",
       "    }\n",
       "\n",
       "    .dataframe tbody tr th {\n",
       "        vertical-align: top;\n",
       "    }\n",
       "\n",
       "    .dataframe thead th {\n",
       "        text-align: right;\n",
       "    }\n",
       "</style>\n",
       "<table border=\"1\" class=\"dataframe\">\n",
       "  <thead>\n",
       "    <tr style=\"text-align: right;\">\n",
       "      <th></th>\n",
       "      <th>user_id</th>\n",
       "      <th>user_text</th>\n",
       "      <th>target_value</th>\n",
       "      <th>symptoms</th>\n",
       "      <th>category_text</th>\n",
       "      <th>category</th>\n",
       "      <th>score_text</th>\n",
       "      <th>gpt4_predicted_value</th>\n",
       "    </tr>\n",
       "  </thead>\n",
       "  <tbody>\n",
       "    <tr>\n",
       "      <th>826</th>\n",
       "      <td>846</td>\n",
       "      <td>I have been extremely low over the last two we...</td>\n",
       "      <td>27.0</td>\n",
       "      <td>The indications or symptoms of depression evid...</td>\n",
       "      <td>Based on these identified symptoms, the indivi...</td>\n",
       "      <td>Moderately Severe</td>\n",
       "      <td>To quantify their depression severity, conside...</td>\n",
       "      <td>NaN</td>\n",
       "    </tr>\n",
       "  </tbody>\n",
       "</table>\n",
       "</div>"
      ],
      "text/plain": [
       "     user_id                                          user_text  target_value  \\\n",
       "826      846  I have been extremely low over the last two we...          27.0   \n",
       "\n",
       "                                              symptoms  \\\n",
       "826  The indications or symptoms of depression evid...   \n",
       "\n",
       "                                         category_text           category  \\\n",
       "826  Based on these identified symptoms, the indivi...  Moderately Severe   \n",
       "\n",
       "                                            score_text  gpt4_predicted_value  \n",
       "826  To quantify their depression severity, conside...                   NaN  "
      ]
     },
     "execution_count": 15,
     "metadata": {},
     "output_type": "execute_result"
    }
   ],
   "source": [
    "df[df.gpt4_predicted_value.isna()]"
   ]
  },
  {
   "cell_type": "code",
   "execution_count": 16,
   "metadata": {},
   "outputs": [
    {
     "data": {
      "text/html": [
       "<div>\n",
       "<style scoped>\n",
       "    .dataframe tbody tr th:only-of-type {\n",
       "        vertical-align: middle;\n",
       "    }\n",
       "\n",
       "    .dataframe tbody tr th {\n",
       "        vertical-align: top;\n",
       "    }\n",
       "\n",
       "    .dataframe thead th {\n",
       "        text-align: right;\n",
       "    }\n",
       "</style>\n",
       "<table border=\"1\" class=\"dataframe\">\n",
       "  <thead>\n",
       "    <tr style=\"text-align: right;\">\n",
       "      <th></th>\n",
       "      <th>user_id</th>\n",
       "      <th>user_text</th>\n",
       "      <th>target_value</th>\n",
       "      <th>symptoms</th>\n",
       "      <th>category_text</th>\n",
       "      <th>category</th>\n",
       "      <th>score_text</th>\n",
       "      <th>gpt4_predicted_value</th>\n",
       "    </tr>\n",
       "  </thead>\n",
       "  <tbody>\n",
       "    <tr>\n",
       "      <th>0</th>\n",
       "      <td>1</td>\n",
       "      <td>Over the past two weeks, I have not been depre...</td>\n",
       "      <td>0.0</td>\n",
       "      <td>The text provided does not show any indication...</td>\n",
       "      <td>Based on the absence of any depressive symptom...</td>\n",
       "      <td>None</td>\n",
       "      <td>Given the lack of depressive symptoms, the dep...</td>\n",
       "      <td>0.0</td>\n",
       "    </tr>\n",
       "    <tr>\n",
       "      <th>1</th>\n",
       "      <td>2</td>\n",
       "      <td>I don't think I have felt depressed. I'm not f...</td>\n",
       "      <td>17.0</td>\n",
       "      <td>The indications or symptoms of depression evid...</td>\n",
       "      <td>Based on these identified symptoms, the indivi...</td>\n",
       "      <td>Mild</td>\n",
       "      <td>To quantify their depression severity, conside...</td>\n",
       "      <td>5.0</td>\n",
       "    </tr>\n",
       "    <tr>\n",
       "      <th>2</th>\n",
       "      <td>3</td>\n",
       "      <td>I have been depressed because I am worried abo...</td>\n",
       "      <td>21.0</td>\n",
       "      <td>The indications or symptoms of depression evid...</td>\n",
       "      <td>Based on these identified symptoms, the indivi...</td>\n",
       "      <td>Moderate</td>\n",
       "      <td>To quantify their depression severity, conside...</td>\n",
       "      <td>14.0</td>\n",
       "    </tr>\n",
       "    <tr>\n",
       "      <th>3</th>\n",
       "      <td>4</td>\n",
       "      <td>Over the past 2 weeks i have been feeling depr...</td>\n",
       "      <td>13.0</td>\n",
       "      <td>The indications or symptoms of depression evid...</td>\n",
       "      <td>Based on these identified symptoms, the indivi...</td>\n",
       "      <td>Moderate</td>\n",
       "      <td>To quantify their depression severity, conside...</td>\n",
       "      <td>10.0</td>\n",
       "    </tr>\n",
       "    <tr>\n",
       "      <th>4</th>\n",
       "      <td>5</td>\n",
       "      <td>yes very much just seem everything is getting ...</td>\n",
       "      <td>9.0</td>\n",
       "      <td>The indications or symptoms of depression evid...</td>\n",
       "      <td>Based on these identified symptoms, the indivi...</td>\n",
       "      <td>Moderately Severe</td>\n",
       "      <td>To quantify their depression severity, conside...</td>\n",
       "      <td>20.0</td>\n",
       "    </tr>\n",
       "  </tbody>\n",
       "</table>\n",
       "</div>"
      ],
      "text/plain": [
       "   user_id                                          user_text  target_value  \\\n",
       "0        1  Over the past two weeks, I have not been depre...           0.0   \n",
       "1        2  I don't think I have felt depressed. I'm not f...          17.0   \n",
       "2        3  I have been depressed because I am worried abo...          21.0   \n",
       "3        4  Over the past 2 weeks i have been feeling depr...          13.0   \n",
       "4        5  yes very much just seem everything is getting ...           9.0   \n",
       "\n",
       "                                            symptoms  \\\n",
       "0  The text provided does not show any indication...   \n",
       "1  The indications or symptoms of depression evid...   \n",
       "2  The indications or symptoms of depression evid...   \n",
       "3  The indications or symptoms of depression evid...   \n",
       "4  The indications or symptoms of depression evid...   \n",
       "\n",
       "                                       category_text           category  \\\n",
       "0  Based on the absence of any depressive symptom...               None   \n",
       "1  Based on these identified symptoms, the indivi...               Mild   \n",
       "2  Based on these identified symptoms, the indivi...           Moderate   \n",
       "3  Based on these identified symptoms, the indivi...           Moderate   \n",
       "4  Based on these identified symptoms, the indivi...  Moderately Severe   \n",
       "\n",
       "                                          score_text  gpt4_predicted_value  \n",
       "0  Given the lack of depressive symptoms, the dep...                   0.0  \n",
       "1  To quantify their depression severity, conside...                   5.0  \n",
       "2  To quantify their depression severity, conside...                  14.0  \n",
       "3  To quantify their depression severity, conside...                  10.0  \n",
       "4  To quantify their depression severity, conside...                  20.0  "
      ]
     },
     "execution_count": 16,
     "metadata": {},
     "output_type": "execute_result"
    }
   ],
   "source": [
    "df.loc[pd.isna(df.gpt4_predicted_value), 'gpt4_predicted_value'] = 20\n",
    "df.head()"
   ]
  },
  {
   "cell_type": "code",
   "execution_count": 37,
   "metadata": {},
   "outputs": [],
   "source": [
    "df.to_csv('/chronos_data/avirinchipur/reasoning_for_psych/expts/parsed_responses/expt_gpt-4.dep_list_evidence_classify_estimate.csv', index=False)"
   ]
  },
  {
   "cell_type": "markdown",
   "metadata": {},
   "source": [
    "## Analysis: Real Value"
   ]
  },
  {
   "cell_type": "code",
   "execution_count": 17,
   "metadata": {},
   "outputs": [
    {
     "data": {
      "text/html": [
       "<div>\n",
       "<style scoped>\n",
       "    .dataframe tbody tr th:only-of-type {\n",
       "        vertical-align: middle;\n",
       "    }\n",
       "\n",
       "    .dataframe tbody tr th {\n",
       "        vertical-align: top;\n",
       "    }\n",
       "\n",
       "    .dataframe thead th {\n",
       "        text-align: right;\n",
       "    }\n",
       "</style>\n",
       "<table border=\"1\" class=\"dataframe\">\n",
       "  <thead>\n",
       "    <tr style=\"text-align: right;\">\n",
       "      <th></th>\n",
       "      <th>user_id</th>\n",
       "      <th>user_text</th>\n",
       "      <th>target_value</th>\n",
       "      <th>symptoms</th>\n",
       "      <th>category_text</th>\n",
       "      <th>category</th>\n",
       "      <th>score_text</th>\n",
       "      <th>gpt4_predicted_value</th>\n",
       "    </tr>\n",
       "  </thead>\n",
       "  <tbody>\n",
       "    <tr>\n",
       "      <th>0</th>\n",
       "      <td>1</td>\n",
       "      <td>Over the past two weeks, I have not been depre...</td>\n",
       "      <td>0.0</td>\n",
       "      <td>The text provided does not show any indication...</td>\n",
       "      <td>Based on the absence of any depressive symptom...</td>\n",
       "      <td>None</td>\n",
       "      <td>Given the lack of depressive symptoms, the dep...</td>\n",
       "      <td>0.0</td>\n",
       "    </tr>\n",
       "    <tr>\n",
       "      <th>1</th>\n",
       "      <td>2</td>\n",
       "      <td>I don't think I have felt depressed. I'm not f...</td>\n",
       "      <td>17.0</td>\n",
       "      <td>The indications or symptoms of depression evid...</td>\n",
       "      <td>Based on these identified symptoms, the indivi...</td>\n",
       "      <td>Mild</td>\n",
       "      <td>To quantify their depression severity, conside...</td>\n",
       "      <td>5.0</td>\n",
       "    </tr>\n",
       "    <tr>\n",
       "      <th>2</th>\n",
       "      <td>3</td>\n",
       "      <td>I have been depressed because I am worried abo...</td>\n",
       "      <td>21.0</td>\n",
       "      <td>The indications or symptoms of depression evid...</td>\n",
       "      <td>Based on these identified symptoms, the indivi...</td>\n",
       "      <td>Moderate</td>\n",
       "      <td>To quantify their depression severity, conside...</td>\n",
       "      <td>14.0</td>\n",
       "    </tr>\n",
       "    <tr>\n",
       "      <th>3</th>\n",
       "      <td>4</td>\n",
       "      <td>Over the past 2 weeks i have been feeling depr...</td>\n",
       "      <td>13.0</td>\n",
       "      <td>The indications or symptoms of depression evid...</td>\n",
       "      <td>Based on these identified symptoms, the indivi...</td>\n",
       "      <td>Moderate</td>\n",
       "      <td>To quantify their depression severity, conside...</td>\n",
       "      <td>10.0</td>\n",
       "    </tr>\n",
       "    <tr>\n",
       "      <th>4</th>\n",
       "      <td>5</td>\n",
       "      <td>yes very much just seem everything is getting ...</td>\n",
       "      <td>9.0</td>\n",
       "      <td>The indications or symptoms of depression evid...</td>\n",
       "      <td>Based on these identified symptoms, the indivi...</td>\n",
       "      <td>Moderately Severe</td>\n",
       "      <td>To quantify their depression severity, conside...</td>\n",
       "      <td>20.0</td>\n",
       "    </tr>\n",
       "  </tbody>\n",
       "</table>\n",
       "</div>"
      ],
      "text/plain": [
       "   user_id                                          user_text  target_value  \\\n",
       "0        1  Over the past two weeks, I have not been depre...           0.0   \n",
       "1        2  I don't think I have felt depressed. I'm not f...          17.0   \n",
       "2        3  I have been depressed because I am worried abo...          21.0   \n",
       "3        4  Over the past 2 weeks i have been feeling depr...          13.0   \n",
       "4        5  yes very much just seem everything is getting ...           9.0   \n",
       "\n",
       "                                            symptoms  \\\n",
       "0  The text provided does not show any indication...   \n",
       "1  The indications or symptoms of depression evid...   \n",
       "2  The indications or symptoms of depression evid...   \n",
       "3  The indications or symptoms of depression evid...   \n",
       "4  The indications or symptoms of depression evid...   \n",
       "\n",
       "                                       category_text           category  \\\n",
       "0  Based on the absence of any depressive symptom...               None   \n",
       "1  Based on these identified symptoms, the indivi...               Mild   \n",
       "2  Based on these identified symptoms, the indivi...           Moderate   \n",
       "3  Based on these identified symptoms, the indivi...           Moderate   \n",
       "4  Based on these identified symptoms, the indivi...  Moderately Severe   \n",
       "\n",
       "                                          score_text  gpt4_predicted_value  \n",
       "0  Given the lack of depressive symptoms, the dep...                   0.0  \n",
       "1  To quantify their depression severity, conside...                   5.0  \n",
       "2  To quantify their depression severity, conside...                  14.0  \n",
       "3  To quantify their depression severity, conside...                  10.0  \n",
       "4  To quantify their depression severity, conside...                  20.0  "
      ]
     },
     "execution_count": 17,
     "metadata": {},
     "output_type": "execute_result"
    }
   ],
   "source": [
    "gpt4_responses_df = pd.read_csv(\"/chronos_data/avirinchipur/reasoning_for_psych/expts/parsed_responses/expt_gpt-4.dep_list_evidence_classify_estimate.csv\")\n",
    "gpt4_responses_df.head() "
   ]
  },
  {
   "cell_type": "code",
   "execution_count": 18,
   "metadata": {},
   "outputs": [
    {
     "data": {
      "text/html": [
       "<div>\n",
       "<style scoped>\n",
       "    .dataframe tbody tr th:only-of-type {\n",
       "        vertical-align: middle;\n",
       "    }\n",
       "\n",
       "    .dataframe tbody tr th {\n",
       "        vertical-align: top;\n",
       "    }\n",
       "\n",
       "    .dataframe thead th {\n",
       "        text-align: right;\n",
       "    }\n",
       "</style>\n",
       "<table border=\"1\" class=\"dataframe\">\n",
       "  <thead>\n",
       "    <tr style=\"text-align: right;\">\n",
       "      <th></th>\n",
       "      <th>user_id</th>\n",
       "      <th>dep_text</th>\n",
       "      <th>PHQ_tot_estimates_a</th>\n",
       "      <th>PHQ_tot_estimates_c</th>\n",
       "      <th>mean_c_a2_fmt</th>\n",
       "      <th>PHQtot3</th>\n",
       "    </tr>\n",
       "  </thead>\n",
       "  <tbody>\n",
       "    <tr>\n",
       "      <th>0</th>\n",
       "      <td>904</td>\n",
       "      <td>I wouldn't say I have been depressed badly. Ho...</td>\n",
       "      <td>5.0</td>\n",
       "      <td>8.0</td>\n",
       "      <td>6.5</td>\n",
       "      <td>7</td>\n",
       "    </tr>\n",
       "    <tr>\n",
       "      <th>1</th>\n",
       "      <td>479</td>\n",
       "      <td>I have been depressed these past two weeks. I ...</td>\n",
       "      <td>11.0</td>\n",
       "      <td>20.0</td>\n",
       "      <td>15.5</td>\n",
       "      <td>23</td>\n",
       "    </tr>\n",
       "    <tr>\n",
       "      <th>2</th>\n",
       "      <td>442</td>\n",
       "      <td>I am generally happy and content in my life an...</td>\n",
       "      <td>3.0</td>\n",
       "      <td>2.0</td>\n",
       "      <td>2.5</td>\n",
       "      <td>0</td>\n",
       "    </tr>\n",
       "    <tr>\n",
       "      <th>3</th>\n",
       "      <td>369</td>\n",
       "      <td>I have been pressed because of the issue of Co...</td>\n",
       "      <td>7.0</td>\n",
       "      <td>6.0</td>\n",
       "      <td>6.5</td>\n",
       "      <td>6</td>\n",
       "    </tr>\n",
       "    <tr>\n",
       "      <th>4</th>\n",
       "      <td>774</td>\n",
       "      <td>I am mostly a positive person but I am very em...</td>\n",
       "      <td>7.0</td>\n",
       "      <td>7.0</td>\n",
       "      <td>7.0</td>\n",
       "      <td>13</td>\n",
       "    </tr>\n",
       "  </tbody>\n",
       "</table>\n",
       "</div>"
      ],
      "text/plain": [
       "   user_id                                           dep_text  \\\n",
       "0      904  I wouldn't say I have been depressed badly. Ho...   \n",
       "1      479  I have been depressed these past two weeks. I ...   \n",
       "2      442  I am generally happy and content in my life an...   \n",
       "3      369  I have been pressed because of the issue of Co...   \n",
       "4      774  I am mostly a positive person but I am very em...   \n",
       "\n",
       "   PHQ_tot_estimates_a  PHQ_tot_estimates_c  mean_c_a2_fmt  PHQtot3  \n",
       "0                  5.0                  8.0            6.5        7  \n",
       "1                 11.0                 20.0           15.5       23  \n",
       "2                  3.0                  2.0            2.5        0  \n",
       "3                  7.0                  6.0            6.5        6  \n",
       "4                  7.0                  7.0            7.0       13  "
      ]
     },
     "execution_count": 18,
     "metadata": {},
     "output_type": "execute_result"
    }
   ],
   "source": [
    "kjell_scoring_df = pd.read_csv(\"/chronos_data/avirinchipur/reasoning_for_psych/kjell_prolific/depText_kjell_scoring.csv\", encoding=\"latin-1\")\n",
    "kjell_scoring_df.head()"
   ]
  },
  {
   "cell_type": "code",
   "execution_count": 19,
   "metadata": {},
   "outputs": [
    {
     "data": {
      "text/plain": [
       "(956, 8)"
      ]
     },
     "execution_count": 19,
     "metadata": {},
     "output_type": "execute_result"
    }
   ],
   "source": [
    "gpt4_responses_df.shape"
   ]
  },
  {
   "cell_type": "code",
   "execution_count": 20,
   "metadata": {},
   "outputs": [
    {
     "data": {
      "text/plain": [
       "LinearRegression()"
      ]
     },
     "execution_count": 20,
     "metadata": {},
     "output_type": "execute_result"
    }
   ],
   "source": [
    "from sklearn.linear_model import LinearRegression\n",
    "lr = LinearRegression()\n",
    "lr.fit(gpt4_responses_df['gpt4_predicted_value'].values.reshape(-1, 1), gpt4_responses_df['target_value'].values.reshape(-1, 1))"
   ]
  },
  {
   "cell_type": "code",
   "execution_count": 21,
   "metadata": {},
   "outputs": [
    {
     "data": {
      "text/plain": [
       "(0.6660702034373724, 4.6679725863091805)"
      ]
     },
     "execution_count": 21,
     "metadata": {},
     "output_type": "execute_result"
    }
   ],
   "source": [
    "m, c = lr.coef_[0, 0], lr.intercept_[0]\n",
    "m, c"
   ]
  },
  {
   "cell_type": "code",
   "execution_count": 22,
   "metadata": {},
   "outputs": [
    {
     "data": {
      "image/png": "[encoded data removed]",
      "text/plain": [
       "<Figure size 700x700 with 1 Axes>"
      ]
     },
     "metadata": {},
     "output_type": "display_data"
    }
   ],
   "source": [
    "import matplotlib.pyplot as plt\n",
    "import numpy as np\n",
    "\n",
    "fig, ax = plt.subplots(1, 1, figsize=(7, 7))\n",
    "ax.scatter(gpt4_responses_df['gpt4_predicted_value'], gpt4_responses_df['target_value'], marker='x')\n",
    "# draw y=x line\n",
    "lims = [\n",
    "    np.min([ax.get_xlim(), ax.get_ylim()]),  # min of both axes\n",
    "    np.max([ax.get_xlim(), ax.get_ylim()]),  # max of both axes\n",
    "]\n",
    "# draw y=mx+c line\n",
    "ax.plot(lims, [m * x + c for x in lims], 'r-', alpha=0.75, zorder=0, label=\"line of best fit\")\n",
    "ax.plot(lims, lims, 'k-', alpha=0.75, zorder=0, label=\"y=x line\")\n",
    "ax.set_ylabel('Target PHQ9', fontdict={'fontsize': 20})\n",
    "ax.set_xlabel('GPT4 score', fontdict={'fontsize': 20})\n",
    "plt.legend(fontsize=15)\n",
    "plt.show()"
   ]
  },
  {
   "cell_type": "code",
   "execution_count": 23,
   "metadata": {},
   "outputs": [
    {
     "data": {
      "text/html": [
       "<div>\n",
       "<style scoped>\n",
       "    .dataframe tbody tr th:only-of-type {\n",
       "        vertical-align: middle;\n",
       "    }\n",
       "\n",
       "    .dataframe tbody tr th {\n",
       "        vertical-align: top;\n",
       "    }\n",
       "\n",
       "    .dataframe thead th {\n",
       "        text-align: right;\n",
       "    }\n",
       "</style>\n",
       "<table border=\"1\" class=\"dataframe\">\n",
       "  <thead>\n",
       "    <tr style=\"text-align: right;\">\n",
       "      <th></th>\n",
       "      <th>user_id</th>\n",
       "      <th>user_text</th>\n",
       "      <th>target_value</th>\n",
       "      <th>symptoms</th>\n",
       "      <th>category_text</th>\n",
       "      <th>category</th>\n",
       "      <th>score_text</th>\n",
       "      <th>gpt4_predicted_value</th>\n",
       "      <th>dep_text</th>\n",
       "      <th>PHQ_tot_estimates_a</th>\n",
       "      <th>PHQ_tot_estimates_c</th>\n",
       "      <th>mean_c_a2_fmt</th>\n",
       "      <th>PHQtot3</th>\n",
       "    </tr>\n",
       "  </thead>\n",
       "  <tbody>\n",
       "    <tr>\n",
       "      <th>0</th>\n",
       "      <td>45</td>\n",
       "      <td>My depression is something I've learnt to live...</td>\n",
       "      <td>5.0</td>\n",
       "      <td>The indications or symptoms of depression evid...</td>\n",
       "      <td>Based on these identified symptoms, the indivi...</td>\n",
       "      <td>Moderate</td>\n",
       "      <td>Considering the symptoms mentioned in the text...</td>\n",
       "      <td>14.0</td>\n",
       "      <td>My depression is something I've learnt to live...</td>\n",
       "      <td>11.0</td>\n",
       "      <td>12.0</td>\n",
       "      <td>11.5</td>\n",
       "      <td>5</td>\n",
       "    </tr>\n",
       "    <tr>\n",
       "      <th>1</th>\n",
       "      <td>49</td>\n",
       "      <td>It’s becoming really stressful at the moment o...</td>\n",
       "      <td>19.0</td>\n",
       "      <td>The indications or symptoms of depression evid...</td>\n",
       "      <td>Based on these identified symptoms, the indivi...</td>\n",
       "      <td>Mild</td>\n",
       "      <td>To quantify their depression severity, conside...</td>\n",
       "      <td>5.0</td>\n",
       "      <td>ItÄôs becoming really stressful at the moment...</td>\n",
       "      <td>7.0</td>\n",
       "      <td>7.0</td>\n",
       "      <td>7.0</td>\n",
       "      <td>19</td>\n",
       "    </tr>\n",
       "    <tr>\n",
       "      <th>2</th>\n",
       "      <td>70</td>\n",
       "      <td>Yes I am regularly depressed and end up drinki...</td>\n",
       "      <td>12.0</td>\n",
       "      <td>The indications or symptoms of depression evid...</td>\n",
       "      <td>Based on these identified symptoms, the indivi...</td>\n",
       "      <td>Moderately Severe</td>\n",
       "      <td>To quantify their depression severity, conside...</td>\n",
       "      <td>20.0</td>\n",
       "      <td>Yes I am regularly depressed and end up drinki...</td>\n",
       "      <td>11.0</td>\n",
       "      <td>20.0</td>\n",
       "      <td>15.5</td>\n",
       "      <td>12</td>\n",
       "    </tr>\n",
       "    <tr>\n",
       "      <th>3</th>\n",
       "      <td>71</td>\n",
       "      <td>Over the last two weeks my mood has been posit...</td>\n",
       "      <td>1.0</td>\n",
       "      <td>The text provided does not seem to indicate an...</td>\n",
       "      <td>Based on the absence of depressive symptoms in...</td>\n",
       "      <td>None</td>\n",
       "      <td>Given the lack of depressive symptoms, the dep...</td>\n",
       "      <td>0.0</td>\n",
       "      <td>Over the last two weeks my mood has been posit...</td>\n",
       "      <td>6.0</td>\n",
       "      <td>9.0</td>\n",
       "      <td>7.5</td>\n",
       "      <td>1</td>\n",
       "    </tr>\n",
       "    <tr>\n",
       "      <th>4</th>\n",
       "      <td>72</td>\n",
       "      <td>I'd been a little depressed off and on. Mainly...</td>\n",
       "      <td>10.0</td>\n",
       "      <td>The indications or symptoms of depression evid...</td>\n",
       "      <td>Based on these identified symptoms, the indivi...</td>\n",
       "      <td>Moderate</td>\n",
       "      <td>To quantify their depression severity, conside...</td>\n",
       "      <td>14.0</td>\n",
       "      <td>I'd been a little depressed off and on. Mainly...</td>\n",
       "      <td>7.0</td>\n",
       "      <td>6.0</td>\n",
       "      <td>6.5</td>\n",
       "      <td>10</td>\n",
       "    </tr>\n",
       "  </tbody>\n",
       "</table>\n",
       "</div>"
      ],
      "text/plain": [
       "   user_id                                          user_text  target_value  \\\n",
       "0       45  My depression is something I've learnt to live...           5.0   \n",
       "1       49  It’s becoming really stressful at the moment o...          19.0   \n",
       "2       70  Yes I am regularly depressed and end up drinki...          12.0   \n",
       "3       71  Over the last two weeks my mood has been posit...           1.0   \n",
       "4       72  I'd been a little depressed off and on. Mainly...          10.0   \n",
       "\n",
       "                                            symptoms  \\\n",
       "0  The indications or symptoms of depression evid...   \n",
       "1  The indications or symptoms of depression evid...   \n",
       "2  The indications or symptoms of depression evid...   \n",
       "3  The text provided does not seem to indicate an...   \n",
       "4  The indications or symptoms of depression evid...   \n",
       "\n",
       "                                       category_text           category  \\\n",
       "0  Based on these identified symptoms, the indivi...           Moderate   \n",
       "1  Based on these identified symptoms, the indivi...               Mild   \n",
       "2  Based on these identified symptoms, the indivi...  Moderately Severe   \n",
       "3  Based on the absence of depressive symptoms in...               None   \n",
       "4  Based on these identified symptoms, the indivi...           Moderate   \n",
       "\n",
       "                                          score_text  gpt4_predicted_value  \\\n",
       "0  Considering the symptoms mentioned in the text...                  14.0   \n",
       "1  To quantify their depression severity, conside...                   5.0   \n",
       "2  To quantify their depression severity, conside...                  20.0   \n",
       "3  Given the lack of depressive symptoms, the dep...                   0.0   \n",
       "4  To quantify their depression severity, conside...                  14.0   \n",
       "\n",
       "                                            dep_text  PHQ_tot_estimates_a  \\\n",
       "0  My depression is something I've learnt to live...                 11.0   \n",
       "1  ItÄôs becoming really stressful at the moment...                  7.0   \n",
       "2  Yes I am regularly depressed and end up drinki...                 11.0   \n",
       "3  Over the last two weeks my mood has been posit...                  6.0   \n",
       "4  I'd been a little depressed off and on. Mainly...                  7.0   \n",
       "\n",
       "   PHQ_tot_estimates_c  mean_c_a2_fmt  PHQtot3  \n",
       "0                 12.0           11.5        5  \n",
       "1                  7.0            7.0       19  \n",
       "2                 20.0           15.5       12  \n",
       "3                  9.0            7.5        1  \n",
       "4                  6.0            6.5       10  "
      ]
     },
     "execution_count": 23,
     "metadata": {},
     "output_type": "execute_result"
    }
   ],
   "source": [
    "gpt4_kjellScoring_merge_df = pd.merge(gpt4_responses_df, kjell_scoring_df, on='user_id', how='inner')\n",
    "gpt4_kjellScoring_merge_df.head()"
   ]
  },
  {
   "cell_type": "code",
   "execution_count": 24,
   "metadata": {},
   "outputs": [
    {
     "name": "stdout",
     "output_type": "stream",
     "text": [
      "    user_id                                          user_text  target_value  \\\n",
      "12      172  Please answer the question by typing at least ...          20.0   \n",
      "\n",
      "                                             symptoms  \\\n",
      "12  The text provided does not contain any explici...   \n",
      "\n",
      "                                        category_text category  \\\n",
      "12  Based on the lack of depressive symptoms in th...     None   \n",
      "\n",
      "                                           score_text  gpt4_predicted_value  \\\n",
      "12  Given the absence of depressive symptoms in th...                   0.0   \n",
      "\n",
      "                                             dep_text  PHQ_tot_estimates_a  \\\n",
      "12  Please answer the question by typing at least ...                  NaN   \n",
      "\n",
      "    PHQ_tot_estimates_c  mean_c_a2_fmt  PHQtot3  \n",
      "12                  NaN            NaN       20  \n"
     ]
    }
   ],
   "source": [
    "print (gpt4_kjellScoring_merge_df[gpt4_kjellScoring_merge_df.mean_c_a2_fmt.isna()])\n",
    "gpt4_kjellScoring_merge_df = gpt4_kjellScoring_merge_df[~gpt4_kjellScoring_merge_df.mean_c_a2_fmt.isna()]"
   ]
  },
  {
   "cell_type": "code",
   "execution_count": 25,
   "metadata": {},
   "outputs": [],
   "source": [
    "from scipy.stats import pearsonr"
   ]
  },
  {
   "cell_type": "code",
   "execution_count": 26,
   "metadata": {},
   "outputs": [
    {
     "name": "stdout",
     "output_type": "stream",
     "text": [
      "Pearson Correlation between the labels: (1.0, 0.0)\n"
     ]
    }
   ],
   "source": [
    "pred, target = gpt4_kjellScoring_merge_df.PHQtot3.values, gpt4_kjellScoring_merge_df.target_value.values\n",
    "labels_pearson, p_val = pearsonr(pred, target)\n",
    "print ('Pearson Correlation between the labels: ({}, {})'.format(round(labels_pearson, 3), round(p_val, 3)))"
   ]
  },
  {
   "cell_type": "code",
   "execution_count": 27,
   "metadata": {},
   "outputs": [
    {
     "name": "stdout",
     "output_type": "stream",
     "text": [
      "Pearson Correlation between GPT and the experts avg: (0.905, 0.0)\n"
     ]
    }
   ],
   "source": [
    "pred, target = gpt4_kjellScoring_merge_df.gpt4_predicted_value.values, gpt4_kjellScoring_merge_df.mean_c_a2_fmt.values\n",
    "expert_gpt4_pearson, p_val = pearsonr(pred, target)\n",
    "print ('Pearson Correlation between GPT and the experts avg: ({}, {})'.format(round(expert_gpt4_pearson, 3), round(p_val, 3)))"
   ]
  },
  {
   "cell_type": "code",
   "execution_count": 28,
   "metadata": {},
   "outputs": [
    {
     "name": "stdout",
     "output_type": "stream",
     "text": [
      "Pearson Correlation between GPT and target PHQ (Annotation data): (0.734, 0.0)\n",
      "-------------------------------------\n",
      "Pearson Correlation between GPT and target PHQ (Full data): (0.733, 0.0)\n"
     ]
    }
   ],
   "source": [
    "pred, target = gpt4_kjellScoring_merge_df.gpt4_predicted_value.values, gpt4_kjellScoring_merge_df.target_value.values\n",
    "target_gpt4_pearson, p_val = pearsonr(pred, target)\n",
    "print ('Pearson Correlation between GPT and target PHQ (Annotation data): ({}, {})'.format(round(target_gpt4_pearson, 3), round(p_val, 3)))\n",
    "print ('-------------------------------------')\n",
    "pred, target = gpt4_responses_df.gpt4_predicted_value.values, gpt4_responses_df.target_value.values\n",
    "target_gpt4_pearson, p_val = pearsonr(pred, target)\n",
    "print ('Pearson Correlation between GPT and target PHQ (Full data): ({}, {})'.format(round(target_gpt4_pearson, 3), round(p_val, 3)))"
   ]
  },
  {
   "cell_type": "code",
   "execution_count": 29,
   "metadata": {},
   "outputs": [
    {
     "name": "stdout",
     "output_type": "stream",
     "text": [
      "Pearson Correlation between experts avg and target PHQ: (0.733, 0.0)\n"
     ]
    }
   ],
   "source": [
    "pred, target = gpt4_kjellScoring_merge_df.mean_c_a2_fmt.values, gpt4_kjellScoring_merge_df.target_value.values\n",
    "target_expert_pearson, p_val = pearsonr(pred, target)\n",
    "print ('Pearson Correlation between experts avg and target PHQ: ({}, {})'.format(round(target_expert_pearson, 3), round(p_val, 3)))"
   ]
  },
  {
   "cell_type": "code",
   "execution_count": 32,
   "metadata": {},
   "outputs": [
    {
     "name": "stdout",
     "output_type": "stream",
     "text": [
      "Pearson Correlation between experts: (0.897, 0.0)\n"
     ]
    }
   ],
   "source": [
    "between_experts_pearson, p_val = pearsonr(gpt4_kjellScoring_merge_df.PHQ_tot_estimates_a, gpt4_kjellScoring_merge_df.PHQ_tot_estimates_c)\n",
    "print ('Pearson Correlation between experts: ({}, {})'.format(round(between_experts_pearson, 3), round(p_val, 3)))"
   ]
  },
  {
   "cell_type": "code",
   "execution_count": null,
   "metadata": {},
   "outputs": [],
   "source": [
    "from sklearn.linear_model import LinearRegression"
   ]
  },
  {
   "cell_type": "code",
   "execution_count": 55,
   "metadata": {},
   "outputs": [
    {
     "name": "stdout",
     "output_type": "stream",
     "text": [
      "Slope/Intercept of GPT4 score vs Experts avg: 0.55/3.64 \n"
     ]
    },
    {
     "data": {
      "image/png": "[encoded data removed]",
      "text/plain": [
       "<Figure size 700x700 with 1 Axes>"
      ]
     },
     "metadata": {},
     "output_type": "display_data"
    }
   ],
   "source": [
    "lr = LinearRegression()\n",
    "lr.fit(gpt4_kjellScoring_merge_df['gpt4_predicted_value'].values.reshape(-1, 1), gpt4_kjellScoring_merge_df['mean_c_a2_fmt'].values.reshape(-1, 1))\n",
    "m, c = lr.coef_[0, 0], lr.intercept_[0]\n",
    "print ('Slope/Intercept of GPT4 score vs Experts avg: {}/{} '.format(round(m, 2), round(c, 2)))\n",
    "\n",
    "fig, ax = plt.subplots(1, 1, figsize=(7, 7))\n",
    "ax.scatter(gpt4_kjellScoring_merge_df['gpt4_predicted_value'], gpt4_kjellScoring_merge_df['mean_c_a2_fmt'], marker='x')\n",
    "# draw y=x line\n",
    "lims = [\n",
    "    np.min([ax.get_xlim(), ax.get_ylim()]),  # min of both axes\n",
    "    np.max([ax.get_xlim(), ax.get_ylim()]),  # max of both axes\n",
    "]\n",
    "# draw y=mx+c line\n",
    "ax.plot(lims, [m * x + c for x in lims], 'r-', alpha=0.75, zorder=0, label=\"line of best fit\")\n",
    "ax.plot(lims, lims, 'k-', alpha=0.75, zorder=0, label=\"y=x line\")\n",
    "ax.set_ylabel('Expert Avg score', fontdict={'fontsize': 20})\n",
    "ax.set_xlabel('GPT4 score', fontdict={'fontsize': 20})\n",
    "plt.legend(fontsize=15)\n",
    "plt.show()"
   ]
  },
  {
   "cell_type": "code",
   "execution_count": 57,
   "metadata": {},
   "outputs": [
    {
     "name": "stdout",
     "output_type": "stream",
     "text": [
      "Slope/Intercept of PHQ9 total vs Experts avg: 1.16/1.65 \n"
     ]
    },
    {
     "data": {
      "image/png": "[encoded data removed]",
      "text/plain": [
       "<Figure size 700x700 with 1 Axes>"
      ]
     },
     "metadata": {},
     "output_type": "display_data"
    }
   ],
   "source": [
    "lr = LinearRegression()\n",
    "lr.fit(gpt4_kjellScoring_merge_df['mean_c_a2_fmt'].values.reshape(-1, 1), gpt4_kjellScoring_merge_df['target_value'].values.reshape(-1, 1))\n",
    "m, c = lr.coef_[0, 0], lr.intercept_[0]\n",
    "print ('Slope/Intercept of PHQ9 total vs Experts avg: {}/{} '.format(round(m, 2), round(c, 2)))\n",
    "\n",
    "fig, ax = plt.subplots(1, 1, figsize=(7, 7))\n",
    "ax.scatter(gpt4_kjellScoring_merge_df['mean_c_a2_fmt'], gpt4_kjellScoring_merge_df['target_value'], marker='x')\n",
    "# draw y=x line\n",
    "lims = [\n",
    "    np.min([ax.get_xlim(), ax.get_ylim()]),  # min of both axes\n",
    "    np.max([ax.get_xlim(), ax.get_ylim()]),  # max of both axes\n",
    "]\n",
    "# draw y=mx+c line\n",
    "ax.plot(lims, [m * x + c for x in lims], 'r-', alpha=0.75, zorder=0, label=\"line of best fit\")\n",
    "ax.plot(lims, lims, 'k-', alpha=0.75, zorder=0, label=\"y=x line\")\n",
    "ax.set_ylabel('PHQ9 total', fontdict={'fontsize': 20})\n",
    "ax.set_xlabel('Expert Avg', fontdict={'fontsize': 20})\n",
    "plt.legend(fontsize=15)\n",
    "plt.show()"
   ]
  },
  {
   "cell_type": "code",
   "execution_count": 58,
   "metadata": {},
   "outputs": [
    {
     "name": "stdout",
     "output_type": "stream",
     "text": [
      "Slope/Intercept of GPT4 score vs PHQ9 tot: 0.71/5.12 \n"
     ]
    },
    {
     "data": {
      "image/png": "[encoded data removed]",
      "text/plain": [
       "<Figure size 700x700 with 1 Axes>"
      ]
     },
     "metadata": {},
     "output_type": "display_data"
    }
   ],
   "source": [
    "lr = LinearRegression()\n",
    "lr.fit(gpt4_kjellScoring_merge_df['gpt4_predicted_value'].values.reshape(-1, 1), gpt4_kjellScoring_merge_df['target_value'].values.reshape(-1, 1))\n",
    "m, c = lr.coef_[0, 0], lr.intercept_[0]\n",
    "print ('Slope/Intercept of GPT4 score vs PHQ9 tot: {}/{} '.format(round(m, 2), round(c, 2)))\n",
    "\n",
    "fig, ax = plt.subplots(1, 1, figsize=(7, 7))\n",
    "ax.scatter(gpt4_kjellScoring_merge_df['gpt4_predicted_value'], gpt4_kjellScoring_merge_df['target_value'], marker='x')\n",
    "# draw y=x line\n",
    "lims = [\n",
    "    np.min([ax.get_xlim(), ax.get_ylim()]),  # min of both axes\n",
    "    np.max([ax.get_xlim(), ax.get_ylim()]),  # max of both axes\n",
    "]\n",
    "# draw y=mx+c line\n",
    "ax.plot(lims, [m * x + c for x in lims], 'r-', alpha=0.75, zorder=0, label=\"line of best fit\")\n",
    "ax.plot(lims, lims, 'k-', alpha=0.75, zorder=0, label=\"y=x line\")\n",
    "ax.set_ylabel('PHQ9 total', fontdict={'fontsize': 20})\n",
    "ax.set_xlabel('GPT4 score', fontdict={'fontsize': 20})\n",
    "plt.legend(fontsize=15)\n",
    "plt.show()"
   ]
  },
  {
   "cell_type": "markdown",
   "metadata": {},
   "source": [
    "## Analysis: Categories"
   ]
  },
  {
   "cell_type": "code",
   "execution_count": 93,
   "metadata": {},
   "outputs": [
    {
     "data": {
      "image/png": "[encoded data removed]",
      "text/plain": [
       "<Figure size 700x700 with 1 Axes>"
      ]
     },
     "metadata": {},
     "output_type": "display_data"
    }
   ],
   "source": [
    "## Consistency of GPT4 predicted scores and predicted categories on the annotated data\n",
    "x, y = gpt4_kjellScoring_merge_df.gpt4_predicted_value.values, gpt4_kjellScoring_merge_df.category.str.lower().map({'none':0, 'mild': 1, 'moderate': 2, 'moderately severe': 3, 'severe': 4}).values\n",
    "colors=['red', 'blue', 'green', 'orange', 'purple']\n",
    "\n",
    "fig, ax = plt.subplots(1, 1, figsize=(7, 7))\n",
    "\n",
    "for i in sorted(np.unique(y)):\n",
    "    ax.scatter(x[y==i], y[y==i], marker='x', c=colors[i])\n",
    "\n",
    "ax.set_ylabel('Predicted Category', fontdict={'fontsize': 20})\n",
    "ax.set_xlabel('Predicted Score', fontdict={'fontsize': 20})\n",
    "plt.suptitle('Consistency of GPT4 \\npredicted scores and predicted categories \\non the anonnated data')\n",
    "plt.show()"
   ]
  },
  {
   "cell_type": "code",
   "execution_count": 86,
   "metadata": {},
   "outputs": [
    {
     "name": "stdout",
     "output_type": "stream",
     "text": [
      "[(0.0, 0), (0.0, 0), (0.0, 0), (0.0, 0), (0.0, 0), (0.0, 0), (0.0, 0), (0.0, 0), (0.0, 0), (0.0, 0), (0.0, 0), (0.0, 0), (0.0, 0), (0.0, 0), (0.0, 0), (0.0, 0), (0.0, 0), (0.0, 0), (0.0, 0), (0.0, 0), (0.0, 0), (0.0, 0), (0.0, 0), (0.0, 0), (1.0, 0), (1.0, 0), (1.0, 0)]\n",
      "[(5.0, 1), (5.0, 1), (5.0, 1), (5.0, 1), (5.0, 1), (5.0, 1), (5.0, 1), (5.0, 1), (5.0, 1), (5.0, 1), (5.0, 1), (5.0, 1), (5.0, 1), (6.0, 1), (6.0, 1), (6.0, 1), (6.0, 1), (7.0, 1), (7.0, 1), (7.0, 1), (7.0, 1)]\n",
      "[(14.0, 2), (14.0, 2), (14.0, 2), (14.0, 2), (14.0, 2), (14.0, 2), (14.0, 2), (14.0, 2), (14.0, 2), (14.0, 2), (14.0, 2), (15.0, 2)]\n",
      "[(18.0, 3), (20.0, 3), (20.0, 3), (20.0, 3), (20.0, 3), (20.0, 3), (20.0, 3), (20.0, 3), (20.0, 3), (20.0, 3), (20.0, 3), (20.0, 3), (20.0, 3), (20.0, 3), (20.0, 3), (20.0, 3), (20.0, 3), (20.0, 3), (20.0, 3), (20.0, 3), (20.0, 3), (20.0, 3), (20.0, 3), (20.0, 3), (20.0, 3), (20.0, 3), (20.0, 3), (20.0, 3), (20.0, 3), (20.0, 3), (20.0, 3), (20.0, 3), (20.0, 3)]\n",
      "[(20.0, 4), (23.0, 4), (23.0, 4), (23.0, 4), (24.0, 4), (25.0, 4)]\n"
     ]
    }
   ],
   "source": [
    "for i in sorted(np.unique(y)):\n",
    "    print ('{}'.format(sorted(list(zip(x[y==i], y[y==i])))))"
   ]
  },
  {
   "cell_type": "code",
   "execution_count": 87,
   "metadata": {},
   "outputs": [
    {
     "data": {
      "text/html": [
       "<div>\n",
       "<style scoped>\n",
       "    .dataframe tbody tr th:only-of-type {\n",
       "        vertical-align: middle;\n",
       "    }\n",
       "\n",
       "    .dataframe tbody tr th {\n",
       "        vertical-align: top;\n",
       "    }\n",
       "\n",
       "    .dataframe thead th {\n",
       "        text-align: right;\n",
       "    }\n",
       "</style>\n",
       "<table border=\"1\" class=\"dataframe\">\n",
       "  <thead>\n",
       "    <tr style=\"text-align: right;\">\n",
       "      <th></th>\n",
       "      <th>user_id</th>\n",
       "      <th>user_text</th>\n",
       "      <th>target_value</th>\n",
       "      <th>symptoms</th>\n",
       "      <th>category_text</th>\n",
       "      <th>category</th>\n",
       "      <th>score_text</th>\n",
       "      <th>gpt4_predicted_value</th>\n",
       "    </tr>\n",
       "  </thead>\n",
       "  <tbody>\n",
       "    <tr>\n",
       "      <th>0</th>\n",
       "      <td>1</td>\n",
       "      <td>Over the past two weeks, I have not been depre...</td>\n",
       "      <td>0.0</td>\n",
       "      <td>The text provided does not show any indication...</td>\n",
       "      <td>Based on the absence of any depressive symptom...</td>\n",
       "      <td>None</td>\n",
       "      <td>Given the lack of depressive symptoms, the dep...</td>\n",
       "      <td>0.0</td>\n",
       "    </tr>\n",
       "    <tr>\n",
       "      <th>1</th>\n",
       "      <td>2</td>\n",
       "      <td>I don't think I have felt depressed. I'm not f...</td>\n",
       "      <td>17.0</td>\n",
       "      <td>The indications or symptoms of depression evid...</td>\n",
       "      <td>Based on these identified symptoms, the indivi...</td>\n",
       "      <td>Mild</td>\n",
       "      <td>To quantify their depression severity, conside...</td>\n",
       "      <td>5.0</td>\n",
       "    </tr>\n",
       "    <tr>\n",
       "      <th>2</th>\n",
       "      <td>3</td>\n",
       "      <td>I have been depressed because I am worried abo...</td>\n",
       "      <td>21.0</td>\n",
       "      <td>The indications or symptoms of depression evid...</td>\n",
       "      <td>Based on these identified symptoms, the indivi...</td>\n",
       "      <td>Moderate</td>\n",
       "      <td>To quantify their depression severity, conside...</td>\n",
       "      <td>14.0</td>\n",
       "    </tr>\n",
       "    <tr>\n",
       "      <th>3</th>\n",
       "      <td>4</td>\n",
       "      <td>Over the past 2 weeks i have been feeling depr...</td>\n",
       "      <td>13.0</td>\n",
       "      <td>The indications or symptoms of depression evid...</td>\n",
       "      <td>Based on these identified symptoms, the indivi...</td>\n",
       "      <td>Moderate</td>\n",
       "      <td>To quantify their depression severity, conside...</td>\n",
       "      <td>10.0</td>\n",
       "    </tr>\n",
       "    <tr>\n",
       "      <th>4</th>\n",
       "      <td>5</td>\n",
       "      <td>yes very much just seem everything is getting ...</td>\n",
       "      <td>9.0</td>\n",
       "      <td>The indications or symptoms of depression evid...</td>\n",
       "      <td>Based on these identified symptoms, the indivi...</td>\n",
       "      <td>Moderately Severe</td>\n",
       "      <td>To quantify their depression severity, conside...</td>\n",
       "      <td>20.0</td>\n",
       "    </tr>\n",
       "    <tr>\n",
       "      <th>...</th>\n",
       "      <td>...</td>\n",
       "      <td>...</td>\n",
       "      <td>...</td>\n",
       "      <td>...</td>\n",
       "      <td>...</td>\n",
       "      <td>...</td>\n",
       "      <td>...</td>\n",
       "      <td>...</td>\n",
       "    </tr>\n",
       "    <tr>\n",
       "      <th>951</th>\n",
       "      <td>972</td>\n",
       "      <td>There has been time when I have not wanted to ...</td>\n",
       "      <td>11.0</td>\n",
       "      <td>The indications or symptoms of depression evid...</td>\n",
       "      <td>Based on these identified symptoms, the indivi...</td>\n",
       "      <td>Moderate</td>\n",
       "      <td>To quantify their depression severity, conside...</td>\n",
       "      <td>14.0</td>\n",
       "    </tr>\n",
       "    <tr>\n",
       "      <th>952</th>\n",
       "      <td>973</td>\n",
       "      <td>I’m not sure if I’ve been depressed exactly, I...</td>\n",
       "      <td>20.0</td>\n",
       "      <td>The indications or symptoms of depression evid...</td>\n",
       "      <td>Based on these identified symptoms, the indivi...</td>\n",
       "      <td>Moderate</td>\n",
       "      <td>To quantify their depression severity, conside...</td>\n",
       "      <td>14.0</td>\n",
       "    </tr>\n",
       "    <tr>\n",
       "      <th>953</th>\n",
       "      <td>974</td>\n",
       "      <td>I haven’t felt depressed. However, I have expe...</td>\n",
       "      <td>20.0</td>\n",
       "      <td>The indications or symptoms of depression evid...</td>\n",
       "      <td>Based on the identified symptom, the individua...</td>\n",
       "      <td>Mild</td>\n",
       "      <td>Given the presence of mood swings but absence ...</td>\n",
       "      <td>5.0</td>\n",
       "    </tr>\n",
       "    <tr>\n",
       "      <th>954</th>\n",
       "      <td>975</td>\n",
       "      <td>I have suffered from depression since my early...</td>\n",
       "      <td>22.0</td>\n",
       "      <td>The indications or symptoms of depression evid...</td>\n",
       "      <td>Based on these identified symptoms, the indivi...</td>\n",
       "      <td>Severe</td>\n",
       "      <td>Considering the severity and number of symptom...</td>\n",
       "      <td>23.0</td>\n",
       "    </tr>\n",
       "    <tr>\n",
       "      <th>955</th>\n",
       "      <td>976</td>\n",
       "      <td>I have not been depressed in the past 2 weeks ...</td>\n",
       "      <td>15.0</td>\n",
       "      <td>The indications or symptoms of depression evid...</td>\n",
       "      <td>Based on these identified symptoms, the indivi...</td>\n",
       "      <td>Mild</td>\n",
       "      <td>Considering the symptoms mentioned and their f...</td>\n",
       "      <td>5.0</td>\n",
       "    </tr>\n",
       "  </tbody>\n",
       "</table>\n",
       "<p>956 rows × 8 columns</p>\n",
       "</div>"
      ],
      "text/plain": [
       "     user_id                                          user_text  target_value  \\\n",
       "0          1  Over the past two weeks, I have not been depre...           0.0   \n",
       "1          2  I don't think I have felt depressed. I'm not f...          17.0   \n",
       "2          3  I have been depressed because I am worried abo...          21.0   \n",
       "3          4  Over the past 2 weeks i have been feeling depr...          13.0   \n",
       "4          5  yes very much just seem everything is getting ...           9.0   \n",
       "..       ...                                                ...           ...   \n",
       "951      972  There has been time when I have not wanted to ...          11.0   \n",
       "952      973  I’m not sure if I’ve been depressed exactly, I...          20.0   \n",
       "953      974  I haven’t felt depressed. However, I have expe...          20.0   \n",
       "954      975  I have suffered from depression since my early...          22.0   \n",
       "955      976  I have not been depressed in the past 2 weeks ...          15.0   \n",
       "\n",
       "                                              symptoms  \\\n",
       "0    The text provided does not show any indication...   \n",
       "1    The indications or symptoms of depression evid...   \n",
       "2    The indications or symptoms of depression evid...   \n",
       "3    The indications or symptoms of depression evid...   \n",
       "4    The indications or symptoms of depression evid...   \n",
       "..                                                 ...   \n",
       "951  The indications or symptoms of depression evid...   \n",
       "952  The indications or symptoms of depression evid...   \n",
       "953  The indications or symptoms of depression evid...   \n",
       "954  The indications or symptoms of depression evid...   \n",
       "955  The indications or symptoms of depression evid...   \n",
       "\n",
       "                                         category_text           category  \\\n",
       "0    Based on the absence of any depressive symptom...               None   \n",
       "1    Based on these identified symptoms, the indivi...               Mild   \n",
       "2    Based on these identified symptoms, the indivi...           Moderate   \n",
       "3    Based on these identified symptoms, the indivi...           Moderate   \n",
       "4    Based on these identified symptoms, the indivi...  Moderately Severe   \n",
       "..                                                 ...                ...   \n",
       "951  Based on these identified symptoms, the indivi...           Moderate   \n",
       "952  Based on these identified symptoms, the indivi...           Moderate   \n",
       "953  Based on the identified symptom, the individua...               Mild   \n",
       "954  Based on these identified symptoms, the indivi...             Severe   \n",
       "955  Based on these identified symptoms, the indivi...               Mild   \n",
       "\n",
       "                                            score_text  gpt4_predicted_value  \n",
       "0    Given the lack of depressive symptoms, the dep...                   0.0  \n",
       "1    To quantify their depression severity, conside...                   5.0  \n",
       "2    To quantify their depression severity, conside...                  14.0  \n",
       "3    To quantify their depression severity, conside...                  10.0  \n",
       "4    To quantify their depression severity, conside...                  20.0  \n",
       "..                                                 ...                   ...  \n",
       "951  To quantify their depression severity, conside...                  14.0  \n",
       "952  To quantify their depression severity, conside...                  14.0  \n",
       "953  Given the presence of mood swings but absence ...                   5.0  \n",
       "954  Considering the severity and number of symptom...                  23.0  \n",
       "955  Considering the symptoms mentioned and their f...                   5.0  \n",
       "\n",
       "[956 rows x 8 columns]"
      ]
     },
     "execution_count": 87,
     "metadata": {},
     "output_type": "execute_result"
    }
   ],
   "source": [
    "gpt4_responses_df"
   ]
  },
  {
   "cell_type": "code",
   "execution_count": 96,
   "metadata": {},
   "outputs": [
    {
     "data": {
      "image/png": "[encoded data removed]",
      "text/plain": [
       "<Figure size 700x700 with 1 Axes>"
      ]
     },
     "metadata": {},
     "output_type": "display_data"
    }
   ],
   "source": [
    "## Consistency of GPT4 predicted scores and predicted categories\n",
    "x, y = gpt4_responses_df.gpt4_predicted_value.values, gpt4_responses_df.category.str.lower().map({'none':0, 'mild': 1, 'moderate': 2, 'moderately severe': 3, 'severe': 4}).values\n",
    "colors=['red', 'blue', 'green', 'orange', 'purple']\n",
    "\n",
    "fig, ax = plt.subplots(1, 1, figsize=(7, 7))\n",
    "\n",
    "for i in sorted(np.unique(y)):\n",
    "    ax.scatter(x[y==i], y[y==i], marker='x', c=colors[i])\n",
    "\n",
    "ax.set_ylabel('Predicted Category', fontdict={'fontsize': 20})\n",
    "ax.set_xlabel('Predicted Score', fontdict={'fontsize': 20})\n",
    "plt.suptitle('Consistency of GPT4 \\npredicted scores and predicted categories \\non the full data')\n",
    "plt.show()"
   ]
  },
  {
   "cell_type": "code",
   "execution_count": 98,
   "metadata": {},
   "outputs": [],
   "source": [
    "# Mapping derived from: https://www.hiv.uw.edu/page/mental-health-screening/phq-9\n",
    "score_map_dict = {}\n",
    "for i in range(27, -1, -1):\n",
    "    if i <=4:\n",
    "        score_map_dict[i] = 0\n",
    "    elif i <=9:\n",
    "        score_map_dict[i] = 1\n",
    "    elif i <=14:\n",
    "        score_map_dict[i] = 2\n",
    "    elif i <=19:\n",
    "        score_map_dict[i] = 3\n",
    "    elif i <=27:\n",
    "        score_map_dict[i] = 4"
   ]
  },
  {
   "cell_type": "code",
   "execution_count": 100,
   "metadata": {},
   "outputs": [],
   "source": [
    "from sklearn.metrics import confusion_matrix, classification_report"
   ]
  },
  {
   "cell_type": "markdown",
   "metadata": {},
   "source": [
    "### Comparing GPT4 predictions with PHQ9 reports"
   ]
  },
  {
   "cell_type": "code",
   "execution_count": 103,
   "metadata": {},
   "outputs": [
    {
     "name": "stdout",
     "output_type": "stream",
     "text": [
      "Classification Report for GPT4 prediction on the annotated data\n",
      "              precision    recall  f1-score   support\n",
      "\n",
      "           0       0.63      0.85      0.72        20\n",
      "           1       0.38      0.47      0.42        17\n",
      "           2       0.27      0.17      0.21        18\n",
      "           3       0.00      0.00      0.00        22\n",
      "           4       0.42      0.73      0.53        22\n",
      "\n",
      "    accuracy                           0.44        99\n",
      "   macro avg       0.34      0.44      0.38        99\n",
      "weighted avg       0.34      0.44      0.37        99\n",
      "\n",
      "-------------------------------------------\n",
      "[[17  3  0  0  0]\n",
      " [ 5  8  1  0  3]\n",
      " [ 2  7  3  1  5]\n",
      " [ 3  2  3  0 14]\n",
      " [ 0  1  4  1 16]]\n"
     ]
    }
   ],
   "source": [
    "print ('Classification Report for GPT4 prediction on the annotated data')\n",
    "gpt4_score_to_category = gpt4_kjellScoring_merge_df.gpt4_predicted_value.map(score_map_dict).values\n",
    "target_value_to_category = gpt4_kjellScoring_merge_df.target_value.map(score_map_dict).values\n",
    "print (classification_report(target_value_to_category, gpt4_score_to_category))\n",
    "print ('-------------------------------------------')\n",
    "print (confusion_matrix(target_value_to_category, gpt4_score_to_category))"
   ]
  },
  {
   "cell_type": "code",
   "execution_count": 110,
   "metadata": {},
   "outputs": [
    {
     "name": "stdout",
     "output_type": "stream",
     "text": [
      "Classification Report for GPT4 prediction on the annotated data\n",
      "              precision    recall  f1-score   support\n",
      "\n",
      "           0       0.63      0.85      0.72        20\n",
      "           1       0.38      0.47      0.42        17\n",
      "           2       0.33      0.22      0.27        18\n",
      "           3       0.30      0.45      0.36        22\n",
      "           4       0.33      0.09      0.14        22\n",
      "\n",
      "    accuracy                           0.41        99\n",
      "   macro avg       0.40      0.42      0.38        99\n",
      "weighted avg       0.39      0.41      0.38        99\n",
      "\n",
      "-------------------------------------------\n",
      "[[17  3  0  0  0]\n",
      " [ 5  8  1  3  0]\n",
      " [ 2  7  4  5  0]\n",
      " [ 3  2  3 10  4]\n",
      " [ 0  1  4 15  2]]\n"
     ]
    }
   ],
   "source": [
    "print ('Classification Report for GPT4 prediction on the annotated data')\n",
    "gpt4_category = gpt4_kjellScoring_merge_df.category.str.lower().map({'none':0, 'mild': 1, 'moderate': 2, 'moderately severe': 3, 'severe': 4}).values\n",
    "target_value_to_category = gpt4_kjellScoring_merge_df.target_value.map(score_map_dict).values\n",
    "print (classification_report(target_value_to_category, gpt4_category))\n",
    "print ('-------------------------------------------')\n",
    "print (confusion_matrix(target_value_to_category, gpt4_category))"
   ]
  },
  {
   "cell_type": "code",
   "execution_count": 105,
   "metadata": {},
   "outputs": [
    {
     "name": "stdout",
     "output_type": "stream",
     "text": [
      "Classification Report for GPT4 prediction on the full data\n",
      "              precision    recall  f1-score   support\n",
      "\n",
      "           0       0.68      0.79      0.73       212\n",
      "           1       0.41      0.51      0.46       204\n",
      "           2       0.33      0.24      0.28       170\n",
      "           3       0.55      0.05      0.10       201\n",
      "           4       0.38      0.71      0.50       169\n",
      "\n",
      "    accuracy                           0.46       956\n",
      "   macro avg       0.47      0.46      0.41       956\n",
      "weighted avg       0.48      0.46      0.42       956\n",
      "\n",
      "-------------------------------------------\n",
      "[[168  37   3   1   3]\n",
      " [ 54 104  21   0  25]\n",
      " [ 13  67  41   2  47]\n",
      " [  7  32  32  11 119]\n",
      " [  4  12  27   6 120]]\n"
     ]
    }
   ],
   "source": [
    "print ('Classification Report for GPT4 prediction on the full data')\n",
    "gpt4_score_to_category = gpt4_responses_df.gpt4_predicted_value.map(score_map_dict).values\n",
    "target_value_to_category = gpt4_responses_df.target_value.map(score_map_dict).values\n",
    "print (classification_report(target_value_to_category, gpt4_score_to_category))\n",
    "print ('-------------------------------------------')\n",
    "print (confusion_matrix(target_value_to_category, gpt4_score_to_category))"
   ]
  },
  {
   "cell_type": "code",
   "execution_count": 125,
   "metadata": {},
   "outputs": [
    {
     "name": "stdout",
     "output_type": "stream",
     "text": [
      "Classification Report for GPT4 prediction on the full data\n",
      "              precision    recall  f1-score   support\n",
      "\n",
      "           0       0.69      0.79      0.74       212\n",
      "           1       0.42      0.52      0.46       204\n",
      "           2       0.30      0.25      0.27       170\n",
      "           3       0.40      0.54      0.46       201\n",
      "           4       0.64      0.17      0.27       169\n",
      "\n",
      "    accuracy                           0.47       956\n",
      "   macro avg       0.49      0.45      0.44       956\n",
      "weighted avg       0.49      0.47      0.46       956\n",
      "\n",
      "-------------------------------------------\n",
      "[[167  38   4   3   0]\n",
      " [ 52 107  20  24   1]\n",
      " [ 12  68  42  44   4]\n",
      " [  7  32  42 109  11]\n",
      " [  4  12  32  92  29]]\n"
     ]
    }
   ],
   "source": [
    "print ('Classification Report for GPT4 prediction on the full data')\n",
    "gpt4_category = gpt4_responses_df.category.str.lower().map({'none':0, 'mild': 1, 'moderate': 2, 'moderately severe': 3, 'severe': 4}).values\n",
    "target_value_to_category = gpt4_responses_df.target_value.map(score_map_dict).values\n",
    "print (classification_report(target_value_to_category, gpt4_category))\n",
    "print ('-------------------------------------------')\n",
    "print (confusion_matrix(target_value_to_category, gpt4_category))"
   ]
  },
  {
   "cell_type": "markdown",
   "metadata": {},
   "source": [
    "### Comparing Expert Annotations with PHQ9 reports"
   ]
  },
  {
   "cell_type": "code",
   "execution_count": 127,
   "metadata": {},
   "outputs": [
    {
     "name": "stdout",
     "output_type": "stream",
     "text": [
      "Classification Report for Target PHQ9 w/ Expert Annotation\n",
      "              precision    recall  f1-score   support\n",
      "\n",
      "           0       0.67      0.70      0.68        20\n",
      "           1       0.30      0.53      0.38        17\n",
      "           2       0.21      0.28      0.24        18\n",
      "           3       0.36      0.36      0.36        22\n",
      "           4       0.50      0.05      0.08        22\n",
      "\n",
      "    accuracy                           0.37        99\n",
      "   macro avg       0.41      0.38      0.35        99\n",
      "weighted avg       0.42      0.37      0.35        99\n",
      "\n",
      "-------------------------------------------\n",
      "[[14  6  0  0  0]\n",
      " [ 5  9  2  1  0]\n",
      " [ 1 10  5  2  0]\n",
      " [ 1  4  8  8  1]\n",
      " [ 0  1  9 11  1]]\n"
     ]
    }
   ],
   "source": [
    "print ('Classification Report for Target PHQ9 w/ Expert Annotation')\n",
    "annotation_to_category = gpt4_kjellScoring_merge_df.mean_c_a2_fmt.map(lambda x: score_map_dict[round(x)]).values\n",
    "target_value_to_category = gpt4_kjellScoring_merge_df.target_value.map(score_map_dict).values\n",
    "print (classification_report(target_value_to_category, annotation_to_category))\n",
    "print ('-------------------------------------------')\n",
    "print (confusion_matrix(target_value_to_category, annotation_to_category))"
   ]
  },
  {
   "cell_type": "markdown",
   "metadata": {},
   "source": [
    "### GPT4 predicted scores vs Expert annotations"
   ]
  },
  {
   "cell_type": "code",
   "execution_count": 123,
   "metadata": {},
   "outputs": [
    {
     "name": "stdout",
     "output_type": "stream",
     "text": [
      "Classification Report for GPT4 prediction w/ Expert Annotation\n",
      "              precision    recall  f1-score   support\n",
      "\n",
      "           0       0.74      0.95      0.83        21\n",
      "           1       0.86      0.60      0.71        30\n",
      "           2       0.64      0.29      0.40        24\n",
      "           3       0.50      0.05      0.08        22\n",
      "           4       0.05      1.00      0.10         2\n",
      "\n",
      "    accuracy                           0.48        99\n",
      "   macro avg       0.56      0.58      0.42        99\n",
      "weighted avg       0.68      0.48      0.51        99\n",
      "\n",
      "-------------------------------------------\n",
      "[[20  1  0  0  0]\n",
      " [ 7 18  3  1  1]\n",
      " [ 0  2  7  0 15]\n",
      " [ 0  0  1  1 20]\n",
      " [ 0  0  0  0  2]]\n"
     ]
    }
   ],
   "source": [
    "print ('Classification Report for GPT4 prediction w/ Expert Annotation')\n",
    "gpt4_score_to_category = gpt4_kjellScoring_merge_df.gpt4_predicted_value.map(score_map_dict).values\n",
    "annotation_to_category = gpt4_kjellScoring_merge_df.mean_c_a2_fmt.map(lambda x: score_map_dict[round(x)]).values\n",
    "print (classification_report(annotation_to_category, gpt4_score_to_category))\n",
    "print ('-------------------------------------------')\n",
    "print (confusion_matrix(annotation_to_category, gpt4_score_to_category))"
   ]
  },
  {
   "cell_type": "code",
   "execution_count": 124,
   "metadata": {},
   "outputs": [
    {
     "name": "stdout",
     "output_type": "stream",
     "text": [
      "Classification Report for GPT4 prediction w/ Expert Annotation\n",
      "              precision    recall  f1-score   support\n",
      "\n",
      "           0       0.74      0.95      0.83        21\n",
      "           1       0.86      0.60      0.71        30\n",
      "           2       0.58      0.29      0.39        24\n",
      "           3       0.52      0.77      0.62        22\n",
      "           4       0.33      1.00      0.50         2\n",
      "\n",
      "    accuracy                           0.65        99\n",
      "   macro avg       0.61      0.72      0.61        99\n",
      "weighted avg       0.68      0.65      0.63        99\n",
      "\n",
      "-------------------------------------------\n",
      "[[20  1  0  0  0]\n",
      " [ 7 18  4  1  0]\n",
      " [ 0  2  7 15  0]\n",
      " [ 0  0  1 17  4]\n",
      " [ 0  0  0  0  2]]\n"
     ]
    }
   ],
   "source": [
    "print ('Classification Report for GPT4 prediction w/ Expert Annotation')\n",
    "gpt4_category = gpt4_kjellScoring_merge_df.category.str.lower().map({'none':0, 'mild': 1, 'moderate': 2, 'moderately severe': 3, 'severe': 4}).values\n",
    "annotation_to_category = gpt4_kjellScoring_merge_df.mean_c_a2_fmt.map(lambda x: score_map_dict[round(x)]).values\n",
    "print (classification_report(annotation_to_category, gpt4_category))\n",
    "print ('-------------------------------------------')\n",
    "print (confusion_matrix( annotation_to_category, gpt4_category))"
   ]
  },
  {
   "cell_type": "code",
   "execution_count": null,
   "metadata": {},
   "outputs": [],
   "source": []
  }
 ],
 "metadata": {
  "kernelspec": {
   "display_name": "gpt3",
   "language": "python",
   "name": "python3"
  },
  "language_info": {
   "codemirror_mode": {
    "name": "ipython",
    "version": 3
   },
   "file_extension": ".py",
   "mimetype": "text/x-python",
   "name": "python",
   "nbconvert_exporter": "python",
   "pygments_lexer": "ipython3",
   "version": "3.7.16"
  },
  "orig_nbformat": 4
 },
 "nbformat": 4,
 "nbformat_minor": 2
}
